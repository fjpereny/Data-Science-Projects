{
 "cells": [
  {
   "cell_type": "markdown",
   "metadata": {},
   "source": [
    "# App Profiles Project\n",
    "\n",
    "## Future App Development Strategy\n",
    "<img src=\"https://www.apple.com/v/app-store/a/images/overview/icon_appstore__ev0z770zyxoy_large.png\" width=90px alt=\"App Store Logo\" title=\"App Store Logo\" align='left'/>\n",
    "\n",
    "<img src=\"https://www.notebookcheck.net/fileadmin/Notebooks/News/_nc3/20180131_Play_Store_Logo.png\" alt=\"Play Store Logo\" title=\"Play Store Logo\" width=100px/>\n",
    "\n",
    "#### Author: Frank Pereny\n",
    "#### Date: November 19th, 2020\n",
    "\n",
    "## Introduction:\n",
    "### Project Summary:\n",
    "The direction of our future development efforts is critical to profitability and success.  The purpose of this project is understand what apps are most likely to attract users on the Google Play Store and Apple App Store.  To accomplish this goal, we will collect and analyze a set of available data.  By aligning with prevailing market data and trends, we will minimize risk on new development efforts.\n",
    "\n",
    "As of September, 2018, there were approximately 2 million iOS apps and 2.1 million Android apps available.  The Windows Store, Amazon Appstore and Blackberry World has approximately 1.35 million apps available combined.  Since Google and Apple dominate the market, and we do not see any reason for that changing in the near future, this analysis will focus on the Google Play Store and Apple App Store exclusively.\n",
    "\n",
    "<img src=\"https://s3.amazonaws.com/dq-content/350/py1m8_statista.png\" alt=\"Marketplace Statistics Chart\" title=\"Marketplace Statistics\" />\n",
    "\n",
    "\n",
    "### Primary Goals:\n",
    "The primary goals of this analysis are as follows:\n",
    "- Focus on data that matches our company profile\n",
    "    - Ad based revenue strategy\n",
    "    - Free to download and install\n",
    "    - Targeted towards English speakers\n",
    "    \n",
    "- Cleaning data\n",
    "    - Removing duplicate data\n",
    "    - Removing or correcting erroneus data\n",
    "    \n",
    "- Analysis:\n",
    "    - Determining the number of apps available by genre\n",
    "    - Estimating the popularity of each genre with end users\n",
    "    - Recommending a genre target for our future app development\n",
    "    \n",
    "\n",
    "### Results:\n",
    "Games are clearly the most dominant type of app in both the Apple App Store and Google Play Store as both a measure of download and installations and popularity.\n",
    "\n",
    "It is recommended to pursue development of game applications to maximize chances of future success.\n",
    "\n",
    "<img src=\"https://www.apple.com/v/app-store/a/images/overview/icon_appstore__ev0z770zyxoy_large.png\" width=40px alt=\"App Store Logo\" title=\"App Store Logo\" align='left'/>\n",
    "\n",
    "#### Apple App Store\n",
    "\n",
    "##### Market Share by Genre\n",
    "|App Store Genre| Market Share |\n",
    "|--------------| -------------|\n",
    "|Games | 58.16% |\n",
    "|Entertainment | 7.88% |\n",
    "|Photo & Video | 4.97%|\n",
    "|Education | 3.66%|\n",
    "|Social Networking | 3.29%|\n",
    "\n",
    "##### Estimated Downloads by Genre\n",
    "|App Store Genre| Estimated Downloads |\n",
    "|--------------| -------------|\n",
    "|Games | 53.39%|\n",
    "|Social Networking | 9.48%|\n",
    "|Photo & Video | 5.69%|\n",
    "|Music | 4.73%|\n",
    "|Entertainment | 4.46%|\n",
    "\n",
    "<img src=\"https://www.notebookcheck.net/fileadmin/Notebooks/News/_nc3/20180131_Play_Store_Logo.png\" alt=\"Play Store Logo\" title=\"Play Store Logo\" width=50px align='left'/>\n",
    "\n",
    "#### Google Play Store  \n",
    "##### Market Share by Genre\n",
    "|Play Store Genre| Market Share |\n",
    "|--------------| -------------|\n",
    "|FAMILY | 18.91%|\n",
    "|GAME | 9.73%|\n",
    "|TOOLS | 8.46%|\n",
    "|BUSINESS | 4.59%|\n",
    "|LIFESTYLE | 3.9%|\n",
    "\n",
    "##### Estimated Downloads by Genre\n",
    "|Play Store Genre| Estimated Downloads |\n",
    "|--------------| -------------|\n",
    "|GAME | 17.86%|\n",
    "|COMMUNICATION | 14.67%|\n",
    "|TOOLS | 10.77%|\n",
    "|FAMILY | 8.23%|\n",
    "|PRODUCTIVITY | 7.7%| \n",
    "\n",
    "## Data Sets\n",
    "### App Store\n",
    "Data for approximately 7,000 apps on the App Store was collected in July, 2017 and stored in CSV format.\n",
    "#### Data Format\n",
    "\n",
    "|Column Header| Explanation | Index|\n",
    "|-----------  | --------   | ------|\n",
    "|id| App ID| 0|\n",
    "|track_name| App Name| 1 |\n",
    "|size_bytes| File Size| 2 |\n",
    "|currency  | Currency | 3 |\n",
    "|price     | App Price| 4 |\n",
    "|rating_count_tot| Number of Reviews | 5  |\n",
    "|rating_count_ver| Rating Count Version | 6 |\n",
    "|user_rating| Average User Rating | 7 |\n",
    "|user_rating_ver| User Rating Version | 8 |\n",
    "|ver | App Version | 9|\n",
    "|cont_rating | Content Rating | 10|\n",
    "|prime_genre | App Genre | 11 |\n",
    "|sup_devices.num | Supported Devices | 12 |\n",
    "|ipadSc_urls.num | Supported Ipad | 13\n",
    "|lang.num | Language | 14 |\n",
    "|vpp_lic | License | 15|\n",
    "\n",
    "#### Download\n",
    "[Download CSV File](https://dq-content.s3.amazonaws.com/350/AppleStore.csv)\n",
    "\n",
    "### Google Play Store\n",
    "Data for approximately 10,000 apps on the Google Play Store was collected in August, 2018 and stored in CSV format.\n",
    "#### Data Format\n",
    "|Column Header| Explanation | Index|\n",
    "|-----------  | --------   | ------|\n",
    "|App| App Name| 0 |\n",
    "|Category | Appe Genre | 1 |\n",
    "|Rating| Average User Rating | 2|\n",
    "|Reviews| Number of Reviews| 3 |\n",
    "| Size| File Size| 4\n",
    "|Installs| Number of Downloads| 5 |\n",
    "|Type | Type | 6 |\n",
    "|Price| App Price | 7 |\n",
    "|Content Rating | Content Rating| 8|\n",
    "|Genres| Genre Group | 9 |\n",
    "|Last Updated| Date Last Updated | 10 |\n",
    "|Current Ver| Current App Version| 11|\n",
    "|Android Ver| Android Version | 12 |\n",
    "\n",
    "#### Download\n",
    "[Download CSV File](https://dq-content.s3.amazonaws.com/350/googleplaystore.csv)"
   ]
  },
  {
   "cell_type": "markdown",
   "metadata": {},
   "source": [
    "## Reading Data Sets"
   ]
  },
  {
   "cell_type": "code",
   "execution_count": 1,
   "metadata": {},
   "outputs": [],
   "source": [
    "from csv import reader\n",
    "\n",
    "# Source Data\n",
    "app_store_file = 'AppleStore.csv'\n",
    "google_play_file = 'googleplaystore.csv'\n",
    "\n",
    "# Opening Data Set Files\n",
    "opened_app_store_file = open(app_store_file)\n",
    "opened_google_play_file = open(google_play_file)\n",
    "# Reading Files\n",
    "read_app_store_file = reader(opened_app_store_file)\n",
    "read_google_play_file = reader(opened_google_play_file)\n",
    "# Creating List\n",
    "app_store_data = list(read_app_store_file)\n",
    "google_play_data = list(read_google_play_file)"
   ]
  },
  {
   "cell_type": "markdown",
   "metadata": {},
   "source": [
    "## Exploring Data"
   ]
  },
  {
   "cell_type": "markdown",
   "metadata": {},
   "source": [
    "### explore_data()\n",
    "The explore_data() functon can be used to quickly view a section of the data."
   ]
  },
  {
   "cell_type": "code",
   "execution_count": 2,
   "metadata": {},
   "outputs": [],
   "source": [
    "def explore_data(dataset, start, end, rows_and_columns=False):\n",
    "    dataset_slice = dataset[start:end]\n",
    "    for row in dataset_slice:\n",
    "        print(row)\n",
    "        print('\\n')\n",
    "        \n",
    "    if rows_and_columns:\n",
    "        print('Number of rows: ', len(dataset))\n",
    "        print('Number of columns: ', len(dataset[0]))\n",
    "        print('\\n')"
   ]
  },
  {
   "cell_type": "code",
   "execution_count": 3,
   "metadata": {
    "scrolled": true
   },
   "outputs": [
    {
     "name": "stdout",
     "output_type": "stream",
     "text": [
      "['id', 'track_name', 'size_bytes', 'currency', 'price', 'rating_count_tot', 'rating_count_ver', 'user_rating', 'user_rating_ver', 'ver', 'cont_rating', 'prime_genre', 'sup_devices.num', 'ipadSc_urls.num', 'lang.num', 'vpp_lic']\n",
      "\n",
      "\n",
      "['284882215', 'Facebook', '389879808', 'USD', '0.0', '2974676', '212', '3.5', '3.5', '95.0', '4+', 'Social Networking', '37', '1', '29', '1']\n",
      "\n",
      "\n",
      "['389801252', 'Instagram', '113954816', 'USD', '0.0', '2161558', '1289', '4.5', '4.0', '10.23', '12+', 'Photo & Video', '37', '0', '29', '1']\n",
      "\n",
      "\n",
      "Number of rows:  7198\n",
      "Number of columns:  16\n",
      "\n",
      "\n",
      "None\n",
      "['App', 'Category', 'Rating', 'Reviews', 'Size', 'Installs', 'Type', 'Price', 'Content Rating', 'Genres', 'Last Updated', 'Current Ver', 'Android Ver']\n",
      "\n",
      "\n",
      "['Photo Editor & Candy Camera & Grid & ScrapBook', 'ART_AND_DESIGN', '4.1', '159', '19M', '10,000+', 'Free', '0', 'Everyone', 'Art & Design', 'January 7, 2018', '1.0.0', '4.0.3 and up']\n",
      "\n",
      "\n",
      "['Coloring book moana', 'ART_AND_DESIGN', '3.9', '967', '14M', '500,000+', 'Free', '0', 'Everyone', 'Art & Design;Pretend Play', 'January 15, 2018', '2.0.0', '4.0.3 and up']\n",
      "\n",
      "\n",
      "Number of rows:  10842\n",
      "Number of columns:  13\n",
      "\n",
      "\n",
      "None\n"
     ]
    }
   ],
   "source": [
    "print(explore_data(app_store_data, 0, 3, True))\n",
    "print(explore_data(google_play_data, 0, 3, True))"
   ]
  },
  {
   "cell_type": "markdown",
   "metadata": {},
   "source": [
    "## Incorrect Data\n",
    "### Google Play Store - Missing Column and Data Shift\n",
    "The following error was reported in [this discussion](https://www.kaggle.com/lava18/google-play-store-apps/discussion/66015).  Based on review it appears that the \"Category\" column was deleted and the data was shifted accordingly."
   ]
  },
  {
   "cell_type": "code",
   "execution_count": 4,
   "metadata": {
    "scrolled": true
   },
   "outputs": [
    {
     "name": "stdout",
     "output_type": "stream",
     "text": [
      "['App', 'Category', 'Rating', 'Reviews', 'Size', 'Installs', 'Type', 'Price', 'Content Rating', 'Genres', 'Last Updated', 'Current Ver', 'Android Ver']\n",
      "\n",
      "\n",
      "None\n",
      "['Life Made WI-Fi Touchscreen Photo Frame', '1.9', '19', '3.0M', '1,000+', 'Free', '0', 'Everyone', '', 'February 11, 2018', '1.0.19', '4.0 and up']\n",
      "\n",
      "\n",
      "None\n"
     ]
    }
   ],
   "source": [
    "print(explore_data(google_play_data, 0, 1, False))\n",
    "print(explore_data(google_play_data, 10473, 10474, False))"
   ]
  },
  {
   "cell_type": "markdown",
   "metadata": {},
   "source": [
    "#### Action:\n",
    "Row was deleted and confirmed by accessing row 10472 and comparing total number of rows."
   ]
  },
  {
   "cell_type": "code",
   "execution_count": 5,
   "metadata": {},
   "outputs": [
    {
     "name": "stdout",
     "output_type": "stream",
     "text": [
      "['osmino Wi-Fi: free WiFi', 'TOOLS', '4.2', '134203', '4.1M', '10,000,000+', 'Free', '0', 'Everyone', 'Tools', 'August 7, 2018', '6.06.14', '4.4 and up']\n",
      "\n",
      "\n",
      "Number of rows:  10841\n",
      "Number of columns:  13\n",
      "\n",
      "\n",
      "None\n"
     ]
    }
   ],
   "source": [
    "del google_play_data[10473]\n",
    "print(explore_data(google_play_data, 10473, 10474, True))"
   ]
  },
  {
   "cell_type": "markdown",
   "metadata": {},
   "source": [
    "## Duplicate Data\n",
    "\n",
    "### duplicate_data()\n",
    "The duplicate data function will determine how many duplicate apps (based on the name) are present in the data.  It can also return a list of all unique app names and a dictionary containing the number of duplicate entries by name."
   ]
  },
  {
   "cell_type": "code",
   "execution_count": 6,
   "metadata": {
    "scrolled": false
   },
   "outputs": [],
   "source": [
    "def duplicate_data(app_store, app_name_col):\n",
    "    # Empty dictionary to contain the name and number of duplicate entries\n",
    "    app_store_unique = []\n",
    "    app_store_duplicates = {}\n",
    "\n",
    "    # Loops over all data skipping the header row\n",
    "    for app_data in app_store[1:]:\n",
    "        name = app_data[app_name_col]\n",
    "\n",
    "        # Checks if app is a duplicate (already exists in unique set)\n",
    "        if name in app_store_unique:\n",
    "            # Adds app or increments the dictionary\n",
    "            if name in app_store_duplicates:\n",
    "                app_store_duplicates[name] += 1\n",
    "            else:\n",
    "                app_store_duplicates[name] = 1\n",
    "        else:\n",
    "            app_store_unique.append(name)\n",
    "\n",
    "    print(\"Number of unique apps in the store: \" + str(len(app_store_unique)))\n",
    "    print(\"Number of apps with at least one duplicate: \" + str(len(app_store_duplicates)))\n",
    "    return app_store_unique, app_store_duplicates"
   ]
  },
  {
   "cell_type": "markdown",
   "metadata": {},
   "source": [
    "### Results\n",
    "#### App Store"
   ]
  },
  {
   "cell_type": "code",
   "execution_count": 7,
   "metadata": {},
   "outputs": [
    {
     "name": "stdout",
     "output_type": "stream",
     "text": [
      "Number of unique apps in the store: 7195\n",
      "Number of apps with at least one duplicate: 2\n"
     ]
    }
   ],
   "source": [
    "app_store_unique, app_store_duplicates = duplicate_data(app_store_data, 1)"
   ]
  },
  {
   "cell_type": "markdown",
   "metadata": {},
   "source": [
    "Two potential duplicates were identified.  We will consider duplicates only if the App ID is the same (column 0 of the CSV file)."
   ]
  },
  {
   "cell_type": "code",
   "execution_count": 8,
   "metadata": {},
   "outputs": [
    {
     "name": "stdout",
     "output_type": "stream",
     "text": [
      "There are 0 confirmed duplicate entries.\n"
     ]
    }
   ],
   "source": [
    "app_id = []\n",
    "confirmed_duplicates = []\n",
    "for row in app_store_data:\n",
    "    if row[1] in app_store_duplicates:\n",
    "        if row[0] in app_id:\n",
    "            confirmed_duplicates.append(row)\n",
    "        else:\n",
    "            app_id.append(row[0])\n",
    "\n",
    "print(\"There are\", len(confirmed_duplicates), \"confirmed duplicate entries.\")\n",
    "    "
   ]
  },
  {
   "cell_type": "markdown",
   "metadata": {},
   "source": [
    "#### Google Play Store"
   ]
  },
  {
   "cell_type": "code",
   "execution_count": 15,
   "metadata": {},
   "outputs": [
    {
     "name": "stdout",
     "output_type": "stream",
     "text": [
      "Number of unique apps in the store: 9659\n",
      "Number of apps with at least one duplicate: 798\n"
     ]
    }
   ],
   "source": [
    "google_play_unique, google_play_duplicates = duplicate_data(google_play_data, 0)"
   ]
  },
  {
   "cell_type": "markdown",
   "metadata": {},
   "source": [
    "798 potential duplicates were identified.  Since there is no App ID, we will consider all of these duplicates."
   ]
  },
  {
   "cell_type": "markdown",
   "metadata": {},
   "source": [
    "#### Action:\n",
    "All duplicate data for a particular app, except for the most recent, for a particular app will be removed.  It will be assumed that the data with the most reviews is the latest data set and will be preserved."
   ]
  },
  {
   "cell_type": "code",
   "execution_count": 19,
   "metadata": {},
   "outputs": [
    {
     "name": "stdout",
     "output_type": "stream",
     "text": [
      "Number of apps in cleaned Google Play Store data: 9659\n"
     ]
    }
   ],
   "source": [
    "# Dictonary to contain the maximum number of reviews for each app\n",
    "android_reviews_max = {}\n",
    "\n",
    "for app_data in google_play_data[1:]:\n",
    "    name = app_data[0]\n",
    "    n_reviews = float(app_data[3])\n",
    "    \n",
    "    # Check if the app is in the dictionary\n",
    "    if name in android_reviews_max:\n",
    "        # Check if reviews is greater than current value in dictionary\n",
    "        if android_reviews_max[name] < n_reviews:\n",
    "            android_reviews_max[name] = n_reviews\n",
    "    else:\n",
    "        # If not in dictionary, create a new kew and assign reviews\n",
    "        android_reviews_max[name] = n_reviews\n",
    "        \n",
    "android_clean = []\n",
    "already_added = []\n",
    "\n",
    "for app_data in google_play_data[1:]:\n",
    "    name = app_data[0]\n",
    "    n_reviews = float(app_data[3])\n",
    "    \n",
    "    if n_reviews == android_reviews_max[name] and name not in already_added:\n",
    "        android_clean.append(app_data)\n",
    "        already_added.append(name)\n",
    "        \n",
    "print('Number of apps in cleaned Google Play Store data:', len(android_clean))"
   ]
  },
  {
   "cell_type": "markdown",
   "metadata": {},
   "source": [
    "## Remove Non-English Apps\n",
    "Because our app is targeted at the English speaking world, we will remove data for apps whose primary target is for non-English speaking users.\n",
    "### Method\n",
    "In order to identify non-English speaking apps, we will attempt the quantify the likelihood an app is targeted for English speakers.  \n",
    "\n",
    "We will use the following method:\n",
    "1. Identify non-English characters as any character that falls outside of the range of ASCII characters (0 through 127)\n",
    "2. Determine the number of non-ASCII characters in the name of the app\n",
    "3. If the app has more than 3 non-ASCII characters it will be removed from the data set."
   ]
  },
  {
   "cell_type": "code",
   "execution_count": 11,
   "metadata": {},
   "outputs": [
    {
     "name": "stdout",
     "output_type": "stream",
     "text": [
      "App store English apps: 6183\n",
      "Google Play English apps: 9613\n"
     ]
    }
   ],
   "source": [
    "def eng_app(string):\n",
    "    bad_char = 0\n",
    "    for char in string:\n",
    "        if ord(char) > 127:\n",
    "            bad_char += 1\n",
    "    if bad_char > 3:\n",
    "        return False\n",
    "    else:\n",
    "        return True\n",
    " \n",
    "apple_english = []\n",
    "android_english = []\n",
    "\n",
    "for app_data in app_store_data[1:]:\n",
    "    if eng_app(app_data[1]):\n",
    "        \n",
    "        apple_english.append(app_data)\n",
    "\n",
    "for app_data in android_clean[1:]:\n",
    "    if eng_app(app_data[0]):\n",
    "        android_english.append(app_data)\n",
    "        \n",
    "print(\"App store English apps: \" + str(len(apple_english)))      \n",
    "print(\"Google Play English apps: \" + str(len(android_english)))"
   ]
  },
  {
   "cell_type": "markdown",
   "metadata": {},
   "source": [
    "## Selecting Free Apps\n",
    "Since the primary business model is to provide free apps for add revenue, we will remove any apps with a price greater than 0."
   ]
  },
  {
   "cell_type": "code",
   "execution_count": 12,
   "metadata": {},
   "outputs": [
    {
     "name": "stdout",
     "output_type": "stream",
     "text": [
      "Apple store FREE apps: 3222\n",
      "Google Play FREE apps: 8863\n"
     ]
    }
   ],
   "source": [
    "free_apple_apps = []\n",
    "free_google_apps = []\n",
    "\n",
    "for app_data in apple_english:\n",
    "    price = app_data[4]\n",
    "    price = ''.join(n for n in price if n.isalnum())\n",
    "    price = float(price)\n",
    "    if price == 0:\n",
    "        free_apple_apps.append(app_data)\n",
    "\n",
    "for app_data in android_english:\n",
    "    price = app_data[7]\n",
    "    price = ''.join(n for n in price if n.isalnum())\n",
    "    price = float(price)\n",
    "    if price == 0:\n",
    "        free_google_apps.append(app_data)\n",
    "        \n",
    "print(\"Apple store FREE apps: \" + str(len(free_apple_apps)))\n",
    "print(\"Google Play FREE apps: \" + str(len(free_google_apps)))"
   ]
  },
  {
   "cell_type": "markdown",
   "metadata": {},
   "source": [
    "## Data Analysis\n",
    "### Most Common Genres\n",
    "From our analysis below, we find that Games is the dominant app on the Apple App Store with more than 50% market share of all available apps.  Similarly, we find that Family and Games are the two highest rated apps on the Google Play Store with almost 29% market share."
   ]
  },
  {
   "cell_type": "code",
   "execution_count": 17,
   "metadata": {},
   "outputs": [
    {
     "name": "stdout",
     "output_type": "stream",
     "text": [
      "App Store Apps\n",
      "Games : 58.16%\n",
      "Entertainment : 7.88%\n",
      "Photo & Video : 4.97%\n",
      "Education : 3.66%\n",
      "Social Networking : 3.29%\n",
      "Shopping : 2.61%\n",
      "Utilities : 2.51%\n",
      "Sports : 2.14%\n",
      "Music : 2.05%\n",
      "Health & Fitness : 2.02%\n",
      "Productivity : 1.74%\n",
      "Lifestyle : 1.58%\n",
      "News : 1.33%\n",
      "Travel : 1.24%\n",
      "Finance : 1.12%\n",
      "Weather : 0.87%\n",
      "Food & Drink : 0.81%\n",
      "Reference : 0.56%\n",
      "Business : 0.53%\n",
      "Book : 0.43%\n",
      "Navigation : 0.19%\n",
      "Medical : 0.19%\n",
      "Catalogs : 0.12%\n",
      "\n",
      "Google Play Store Apps\n",
      "FAMILY : 18.91%\n",
      "GAME : 9.73%\n",
      "TOOLS : 8.46%\n",
      "BUSINESS : 4.59%\n",
      "LIFESTYLE : 3.9%\n",
      "PRODUCTIVITY : 3.89%\n",
      "FINANCE : 3.7%\n",
      "MEDICAL : 3.53%\n",
      "SPORTS : 3.4%\n",
      "PERSONALIZATION : 3.32%\n",
      "COMMUNICATION : 3.24%\n",
      "HEALTH_AND_FITNESS : 3.08%\n",
      "PHOTOGRAPHY : 2.94%\n",
      "NEWS_AND_MAGAZINES : 2.8%\n",
      "SOCIAL : 2.66%\n",
      "TRAVEL_AND_LOCAL : 2.34%\n",
      "SHOPPING : 2.25%\n",
      "BOOKS_AND_REFERENCE : 2.14%\n",
      "DATING : 1.86%\n",
      "VIDEO_PLAYERS : 1.79%\n",
      "MAPS_AND_NAVIGATION : 1.4%\n",
      "FOOD_AND_DRINK : 1.24%\n",
      "EDUCATION : 1.16%\n",
      "ENTERTAINMENT : 0.96%\n",
      "LIBRARIES_AND_DEMO : 0.94%\n",
      "AUTO_AND_VEHICLES : 0.93%\n",
      "HOUSE_AND_HOME : 0.82%\n",
      "WEATHER : 0.8%\n",
      "EVENTS : 0.71%\n",
      "PARENTING : 0.65%\n",
      "ART_AND_DESIGN : 0.63%\n",
      "COMICS : 0.62%\n",
      "BEAUTY : 0.6%\n"
     ]
    }
   ],
   "source": [
    "def freq_table(data_set, col):\n",
    "    table = {}\n",
    "    count = 0\n",
    "    for data in data_set:\n",
    "        count += 1\n",
    "        if data[col] not in table:\n",
    "            table[data[col]] = 1 \n",
    "        else:\n",
    "            table[data[col]] += 1\n",
    "    for key in table:\n",
    "        table[key] = round(table[key] / count * 100.0, 2)\n",
    "    return table\n",
    "\n",
    "apple_genre_freq_table = freq_table(free_apple_apps, 11)\n",
    "android_genre_freq_table = freq_table(free_google_apps, 1)\n",
    "\n",
    "def display_table(data_set, col, percent=False):\n",
    "    table = freq_table(data_set, col)\n",
    "    table_display = []\n",
    "    for key in table:\n",
    "        key_val_as_tuple = (table[key], key)\n",
    "        table_display.append(key_val_as_tuple)\n",
    "        \n",
    "    table_sorted = sorted(table_display, reverse=True)\n",
    "    if percent:\n",
    "        for entry in table_sorted:\n",
    "            print(entry[1], ':', str(entry[0])+'%')\n",
    "    else:\n",
    "        for entry in table_sorted:\n",
    "            print(entry[1], ':', entry[0])\n",
    "        \n",
    "print('App Store Apps')\n",
    "display_table(free_apple_apps, 11, percent=True)\n",
    "print('\\nGoogle Play Store Apps')\n",
    "display_table(free_google_apps, 1, percent=True)"
   ]
  },
  {
   "cell_type": "markdown",
   "metadata": {},
   "source": [
    "## Genre Popularity\n",
    "Game type apps are the most popular on the Apple App Store with more than 50% of estimated downloads (estimated by user-rating count totals).  Similarly, we find that Games is the most downloaded type of app on the Google Play Store."
   ]
  },
  {
   "cell_type": "code",
   "execution_count": 14,
   "metadata": {},
   "outputs": [
    {
     "name": "stdout",
     "output_type": "stream",
     "text": [
      "App Store Estimated Installs (Based on Rating Count):\n",
      "Games : 53.39%\n",
      "Social Networking : 9.48%\n",
      "Photo & Video : 5.69%\n",
      "Music : 4.73%\n",
      "Entertainment : 4.46%\n",
      "Shopping : 2.83%\n",
      "Sports : 1.98%\n",
      "Utilities : 1.89%\n",
      "Health & Fitness : 1.89%\n",
      "Weather : 1.83%\n",
      "Reference : 1.69%\n",
      "Productivity : 1.47%\n",
      "Finance : 1.42%\n",
      "Travel : 1.41%\n",
      "News : 1.14%\n",
      "Food & Drink : 1.08%\n",
      "Lifestyle : 1.05%\n",
      "Education : 1.03%\n",
      "Book : 0.7%\n",
      "Navigation : 0.65%\n",
      "Business : 0.16%\n",
      "Catalogs : 0.02%\n",
      "Medical : 0.0%\n",
      "\n",
      "Google Play Store Installs By Genre:\n",
      "GAME : 17.86%\n",
      "COMMUNICATION : 14.67%\n",
      "TOOLS : 10.77%\n",
      "FAMILY : 8.23%\n",
      "PRODUCTIVITY : 7.7%\n",
      "SOCIAL : 7.29%\n",
      "PHOTOGRAPHY : 6.19%\n",
      "VIDEO_PLAYERS : 5.22%\n",
      "TRAVEL_AND_LOCAL : 3.85%\n",
      "NEWS_AND_MAGAZINES : 3.15%\n",
      "BOOKS_AND_REFERENCE : 2.21%\n",
      "PERSONALIZATION : 2.03%\n",
      "SHOPPING : 1.86%\n",
      "HEALTH_AND_FITNESS : 1.52%\n",
      "SPORTS : 1.46%\n",
      "ENTERTAINMENT : 1.31%\n",
      "BUSINESS : 0.93%\n",
      "MAPS_AND_NAVIGATION : 0.67%\n",
      "LIFESTYLE : 0.66%\n",
      "FINANCE : 0.6%\n",
      "WEATHER : 0.48%\n",
      "FOOD_AND_DRINK : 0.28%\n",
      "EDUCATION : 0.25%\n",
      "DATING : 0.19%\n",
      "ART_AND_DESIGN : 0.15%\n",
      "HOUSE_AND_HOME : 0.13%\n",
      "LIBRARIES_AND_DEMO : 0.07%\n",
      "AUTO_AND_VEHICLES : 0.07%\n",
      "COMICS : 0.06%\n",
      "MEDICAL : 0.05%\n",
      "PARENTING : 0.04%\n",
      "BEAUTY : 0.04%\n",
      "EVENTS : 0.02%\n"
     ]
    }
   ],
   "source": [
    "def genre_table(data_set, genre, installs):\n",
    "    total_installs = 0   \n",
    "    table = {}\n",
    "    for data in data_set:\n",
    "        genre_val = data[genre]\n",
    "        \n",
    "        installs_val = data[installs]\n",
    "        installs_val = ''.join(x for x in installs_val if x.isnumeric())\n",
    "        installs_val = int(installs_val)\n",
    "        total_installs += installs_val\n",
    "        \n",
    "        if genre_val not in table:\n",
    "            table[genre_val] = installs_val\n",
    "        else:\n",
    "            table[data[genre]] += installs_val\n",
    "            \n",
    "    for key in table:\n",
    "        table[key] = round(table[key] / float(total_installs) * 100,2)\n",
    "    return table\n",
    "\n",
    "def sort_dict(dictionary, percent=True):\n",
    "    new_dict = []\n",
    "    for key in dictionary:\n",
    "        key_val_as_tuple = (dictionary[key], key)\n",
    "        new_dict.append(key_val_as_tuple)\n",
    "        \n",
    "    sorted_dict = sorted(new_dict, reverse=True)\n",
    "    if percent:\n",
    "        for entry in sorted_dict:\n",
    "            print(entry[1], ':', str(entry[0])+'%')\n",
    "    else:\n",
    "        for entry in sorted_dict:\n",
    "            print(entry[1], ':', entry[0])\n",
    "            \n",
    "print('App Store Estimated Installs (Based on Rating Count):')\n",
    "apple_genre_data = genre_table(free_apple_apps, 11, 5)\n",
    "sort_dict(apple_genre_data)            \n",
    "print()\n",
    "print('Google Play Store Installs By Genre:')            \n",
    "android_genre_data = genre_table(free_google_apps, 1, 5)\n",
    "sort_dict(android_genre_data)"
   ]
  }
 ],
 "metadata": {
  "kernelspec": {
   "display_name": "Python 3",
   "language": "python",
   "name": "python3"
  },
  "language_info": {
   "codemirror_mode": {
    "name": "ipython",
    "version": 3
   },
   "file_extension": ".py",
   "mimetype": "text/x-python",
   "name": "python",
   "nbconvert_exporter": "python",
   "pygments_lexer": "ipython3",
   "version": "3.8.2"
  }
 },
 "nbformat": 4,
 "nbformat_minor": 2
}
