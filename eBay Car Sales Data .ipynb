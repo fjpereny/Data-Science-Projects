{
 "cells": [
  {
   "cell_type": "markdown",
   "metadata": {
    "collapsed": true
   },
   "source": [
    "<img src=\"https://upload.wikimedia.org/wikipedia/commons/thumb/1/1b/EBay_logo.svg/2880px-EBay_logo.svg.png\" alt=\"eBay Logo\" title=\"eBay Logo\" width=300px/>\n",
    "# eBay Car Sales Data\n",
    "#### Author: Frank Pereny\n",
    "#### Date November, 2020\n",
    "\n",
    "## Introduction:\n",
    "### Project Summary:\n",
    "[eBay Kleinanzeigen](https://www.ebay-kleinanzeigen.de/) (ebay Classifieds), is the German section of eBay.  Used car classifies were collected and analyzed to indentify pricing and branding and other information were analyzed to understand the German eBay auto marketplace.\n",
    "\n",
    "### Goals:\n",
    "Cleaning the data to perform the following:\n",
    "\n",
    "- Analysis of registration year (age) of the vehicles for sale\n",
    "- Analysis of ad posting dates\n",
    "- Most popular and least popular brand of vehicles\n",
    "- Average eBay listing price by brand\n",
    "- Average odometer reading by brand\n",
    "- \"Value Index\" which compare the value retained by brand using both average price and odometer readings\n",
    "\n",
    "\n",
    "### Source Data:\n",
    "#### Original Source Data:\n",
    "The original source data was [scraped](https://en.wikipedia.org/wiki/Web_scraping) and uploaded to [Kaggle](https://www.kaggle.com/) by user [orgesleka](https://www.kaggle.com/orgesleka).  The data no longer exists on Kaggle, but it can be [downloaded here](https://data.world/data-society/used-cars-data).\n",
    "#### Project Source Data:\n",
    "The data used in this project is a sub-set of the orignal data.  The following modifications were made to the data by [DATAQUEST](https://www.dataquest.io/) for the purposes of this project.\n",
    "\n",
    "1) Data set was reduced to 50,000 data points.\n",
    "\n",
    "2) Since the original data had been cleaned, the data was \"dirtied\" to more closely resemble raw scraped data.\n",
    "\n",
    "#### Data Dictionary:\n",
    "\n",
    "|Label | Meaning|\n",
    "|----- | -------|\n",
    "| dateCrawled | When ad was first crawled.\n",
    "| name| Name of the car. | \n",
    "| seller | Whether seller is a dealer or private party.|\n",
    "| offerType | The type of listing.|\n",
    "|price| The price on the ad to sell the car |\n",
    "|abtest | Whether the listing is inlcuded in an A/B test.|\n",
    "|vehicleType| The type of vehicle for sale.|\n",
    "|yearOfRegistration| The year in which the car was first registered.|\n",
    "|gearbox | Manual or automatic transmission.|\n",
    "|powerPS | The power of the car's engine in DIN [horsepower](https://en.wikipedia.org/wiki/Horsepower) (German pferdestrke \"horse strength\"). 1 DIN hp is approximately 735.5 watt and should not be confused with SAE horsepower (745.7 watt).|\n",
    "|model | Car model name|\n",
    "|kilometer | Odometer reading in kilometers.|\n",
    "|monthOfRegistration| The month in which the car was first registered.|\n",
    "|fuelType | What type of fuel the car uses.|\n",
    "|brand| The brand of the car.|\n",
    "|notRepairedDamage| If the car has damage that has not been repaired.|\n",
    "|dateCreated| The date that the eBay listing was created.|\n",
    "|nrOfPictures| The number of photos in the ad.|\n",
    "|postalCode| The postal code for the location of the vehicle.|\n",
    "|lastSeenOnline | When the crawler last saw this ad online.|\n",
    "\n",
    "\n",
    "#### Data Cleaning\n",
    "Data was cleaned in the following order.  Based on our cleaning criteria, almost 95% of the original data set was retained for anlaysis.\n",
    "\n",
    "| Number of Filters Appplied |   Filter    | Data Points | Percent | Data Lost (Cumulutive) |\n",
    "|----------------------------|------------ | --------    | --------| ------                 |\n",
    "|             0              | Original Source   | 50,000 | 100%   | 0%    |\n",
    "|              1             | Car Price >= \\$200 | 47,659 | 95.32% | 4.68% |\n",
    "|              2             | Car Price <= \\$350,000 | 47,645 | 95.29% | 4.71% |\n",
    "|             3              |1900 <= Car Registration Year <= 2007 | 47,157 | 94.31% | 5.69%|\n",
    "\n"
   ]
  },
  {
   "cell_type": "code",
   "execution_count": 1,
   "metadata": {
    "collapsed": false
   },
   "outputs": [],
   "source": [
    "import numpy as np\n",
    "import pandas as pd"
   ]
  },
  {
   "cell_type": "markdown",
   "metadata": {},
   "source": [
    "## Analysis\n",
    "### CSV File Encoding\n",
    "From the error shown below we know that the project data file is not UTF-8 encoded."
   ]
  },
  {
   "cell_type": "code",
   "execution_count": 2,
   "metadata": {
    "collapsed": false
   },
   "outputs": [
    {
     "name": "stdout",
     "output_type": "stream",
     "text": [
      "File is not UTF-8 encoded!\n"
     ]
    }
   ],
   "source": [
    "try:\n",
    "    autos_UTF8 = pd.read_csv('autos.csv')\n",
    "except:\n",
    "    print('File is not UTF-8 encoded!')\n",
    "    \n",
    "try: \n",
    "    autos_Latin1 = pd.read_csv('autos.csv', encoding='Latin-1')\n",
    "except:\n",
    "    print('File is not Latin-1 encoded!')\n",
    "    \n",
    "try:\n",
    "    autos_Windows1252 = pd.read_csv('autos.csv', encoding='Windows-1252')\n",
    "except:\n",
    "    print('File is not Windows-1252 encoded!')"
   ]
  },
  {
   "cell_type": "markdown",
   "metadata": {},
   "source": [
    "We can inspect the Latin-1 and Windows-1252 encodings to determine which may be be the correct encoding.  Based on the results below it seems that either data set would be acceptable.  For the remainder of the project we will use the Latin-1 encoded data set and assign it to autos."
   ]
  },
  {
   "cell_type": "code",
   "execution_count": 3,
   "metadata": {
    "collapsed": false
   },
   "outputs": [
    {
     "data": {
      "text/html": [
       "<div>\n",
       "<style scoped>\n",
       "    .dataframe tbody tr th:only-of-type {\n",
       "        vertical-align: middle;\n",
       "    }\n",
       "\n",
       "    .dataframe tbody tr th {\n",
       "        vertical-align: top;\n",
       "    }\n",
       "\n",
       "    .dataframe thead th {\n",
       "        text-align: right;\n",
       "    }\n",
       "</style>\n",
       "<table border=\"1\" class=\"dataframe\">\n",
       "  <thead>\n",
       "    <tr style=\"text-align: right;\">\n",
       "      <th></th>\n",
       "      <th>dateCrawled</th>\n",
       "      <th>name</th>\n",
       "      <th>seller</th>\n",
       "      <th>offerType</th>\n",
       "      <th>price</th>\n",
       "      <th>abtest</th>\n",
       "      <th>vehicleType</th>\n",
       "      <th>yearOfRegistration</th>\n",
       "      <th>gearbox</th>\n",
       "      <th>powerPS</th>\n",
       "      <th>model</th>\n",
       "      <th>odometer</th>\n",
       "      <th>monthOfRegistration</th>\n",
       "      <th>fuelType</th>\n",
       "      <th>brand</th>\n",
       "      <th>notRepairedDamage</th>\n",
       "      <th>dateCreated</th>\n",
       "      <th>nrOfPictures</th>\n",
       "      <th>postalCode</th>\n",
       "      <th>lastSeen</th>\n",
       "    </tr>\n",
       "  </thead>\n",
       "  <tbody>\n",
       "    <tr>\n",
       "      <th>0</th>\n",
       "      <td>2016-03-26 17:47:46</td>\n",
       "      <td>Peugeot_807_160_NAVTECH_ON_BOARD</td>\n",
       "      <td>privat</td>\n",
       "      <td>Angebot</td>\n",
       "      <td>$5,000</td>\n",
       "      <td>control</td>\n",
       "      <td>bus</td>\n",
       "      <td>2004</td>\n",
       "      <td>manuell</td>\n",
       "      <td>158</td>\n",
       "      <td>andere</td>\n",
       "      <td>150,000km</td>\n",
       "      <td>3</td>\n",
       "      <td>lpg</td>\n",
       "      <td>peugeot</td>\n",
       "      <td>nein</td>\n",
       "      <td>2016-03-26 00:00:00</td>\n",
       "      <td>0</td>\n",
       "      <td>79588</td>\n",
       "      <td>2016-04-06 06:45:54</td>\n",
       "    </tr>\n",
       "    <tr>\n",
       "      <th>1</th>\n",
       "      <td>2016-04-04 13:38:56</td>\n",
       "      <td>BMW_740i_4_4_Liter_HAMANN_UMBAU_Mega_Optik</td>\n",
       "      <td>privat</td>\n",
       "      <td>Angebot</td>\n",
       "      <td>$8,500</td>\n",
       "      <td>control</td>\n",
       "      <td>limousine</td>\n",
       "      <td>1997</td>\n",
       "      <td>automatik</td>\n",
       "      <td>286</td>\n",
       "      <td>7er</td>\n",
       "      <td>150,000km</td>\n",
       "      <td>6</td>\n",
       "      <td>benzin</td>\n",
       "      <td>bmw</td>\n",
       "      <td>nein</td>\n",
       "      <td>2016-04-04 00:00:00</td>\n",
       "      <td>0</td>\n",
       "      <td>71034</td>\n",
       "      <td>2016-04-06 14:45:08</td>\n",
       "    </tr>\n",
       "    <tr>\n",
       "      <th>2</th>\n",
       "      <td>2016-03-26 18:57:24</td>\n",
       "      <td>Volkswagen_Golf_1.6_United</td>\n",
       "      <td>privat</td>\n",
       "      <td>Angebot</td>\n",
       "      <td>$8,990</td>\n",
       "      <td>test</td>\n",
       "      <td>limousine</td>\n",
       "      <td>2009</td>\n",
       "      <td>manuell</td>\n",
       "      <td>102</td>\n",
       "      <td>golf</td>\n",
       "      <td>70,000km</td>\n",
       "      <td>7</td>\n",
       "      <td>benzin</td>\n",
       "      <td>volkswagen</td>\n",
       "      <td>nein</td>\n",
       "      <td>2016-03-26 00:00:00</td>\n",
       "      <td>0</td>\n",
       "      <td>35394</td>\n",
       "      <td>2016-04-06 20:15:37</td>\n",
       "    </tr>\n",
       "  </tbody>\n",
       "</table>\n",
       "</div>"
      ],
      "text/plain": [
       "           dateCrawled                                        name  seller  \\\n",
       "0  2016-03-26 17:47:46            Peugeot_807_160_NAVTECH_ON_BOARD  privat   \n",
       "1  2016-04-04 13:38:56  BMW_740i_4_4_Liter_HAMANN_UMBAU_Mega_Optik  privat   \n",
       "2  2016-03-26 18:57:24                  Volkswagen_Golf_1.6_United  privat   \n",
       "\n",
       "  offerType   price   abtest vehicleType  yearOfRegistration    gearbox  \\\n",
       "0   Angebot  $5,000  control         bus                2004    manuell   \n",
       "1   Angebot  $8,500  control   limousine                1997  automatik   \n",
       "2   Angebot  $8,990     test   limousine                2009    manuell   \n",
       "\n",
       "   powerPS   model   odometer  monthOfRegistration fuelType       brand  \\\n",
       "0      158  andere  150,000km                    3      lpg     peugeot   \n",
       "1      286     7er  150,000km                    6   benzin         bmw   \n",
       "2      102    golf   70,000km                    7   benzin  volkswagen   \n",
       "\n",
       "  notRepairedDamage          dateCreated  nrOfPictures  postalCode  \\\n",
       "0              nein  2016-03-26 00:00:00             0       79588   \n",
       "1              nein  2016-04-04 00:00:00             0       71034   \n",
       "2              nein  2016-03-26 00:00:00             0       35394   \n",
       "\n",
       "              lastSeen  \n",
       "0  2016-04-06 06:45:54  \n",
       "1  2016-04-06 14:45:08  \n",
       "2  2016-04-06 20:15:37  "
      ]
     },
     "execution_count": 3,
     "metadata": {},
     "output_type": "execute_result"
    }
   ],
   "source": [
    "autos_Latin1.head(3)"
   ]
  },
  {
   "cell_type": "code",
   "execution_count": 4,
   "metadata": {
    "collapsed": false
   },
   "outputs": [
    {
     "data": {
      "text/html": [
       "<div>\n",
       "<style scoped>\n",
       "    .dataframe tbody tr th:only-of-type {\n",
       "        vertical-align: middle;\n",
       "    }\n",
       "\n",
       "    .dataframe tbody tr th {\n",
       "        vertical-align: top;\n",
       "    }\n",
       "\n",
       "    .dataframe thead th {\n",
       "        text-align: right;\n",
       "    }\n",
       "</style>\n",
       "<table border=\"1\" class=\"dataframe\">\n",
       "  <thead>\n",
       "    <tr style=\"text-align: right;\">\n",
       "      <th></th>\n",
       "      <th>dateCrawled</th>\n",
       "      <th>name</th>\n",
       "      <th>seller</th>\n",
       "      <th>offerType</th>\n",
       "      <th>price</th>\n",
       "      <th>abtest</th>\n",
       "      <th>vehicleType</th>\n",
       "      <th>yearOfRegistration</th>\n",
       "      <th>gearbox</th>\n",
       "      <th>powerPS</th>\n",
       "      <th>model</th>\n",
       "      <th>odometer</th>\n",
       "      <th>monthOfRegistration</th>\n",
       "      <th>fuelType</th>\n",
       "      <th>brand</th>\n",
       "      <th>notRepairedDamage</th>\n",
       "      <th>dateCreated</th>\n",
       "      <th>nrOfPictures</th>\n",
       "      <th>postalCode</th>\n",
       "      <th>lastSeen</th>\n",
       "    </tr>\n",
       "  </thead>\n",
       "  <tbody>\n",
       "    <tr>\n",
       "      <th>0</th>\n",
       "      <td>2016-03-26 17:47:46</td>\n",
       "      <td>Peugeot_807_160_NAVTECH_ON_BOARD</td>\n",
       "      <td>privat</td>\n",
       "      <td>Angebot</td>\n",
       "      <td>$5,000</td>\n",
       "      <td>control</td>\n",
       "      <td>bus</td>\n",
       "      <td>2004</td>\n",
       "      <td>manuell</td>\n",
       "      <td>158</td>\n",
       "      <td>andere</td>\n",
       "      <td>150,000km</td>\n",
       "      <td>3</td>\n",
       "      <td>lpg</td>\n",
       "      <td>peugeot</td>\n",
       "      <td>nein</td>\n",
       "      <td>2016-03-26 00:00:00</td>\n",
       "      <td>0</td>\n",
       "      <td>79588</td>\n",
       "      <td>2016-04-06 06:45:54</td>\n",
       "    </tr>\n",
       "    <tr>\n",
       "      <th>1</th>\n",
       "      <td>2016-04-04 13:38:56</td>\n",
       "      <td>BMW_740i_4_4_Liter_HAMANN_UMBAU_Mega_Optik</td>\n",
       "      <td>privat</td>\n",
       "      <td>Angebot</td>\n",
       "      <td>$8,500</td>\n",
       "      <td>control</td>\n",
       "      <td>limousine</td>\n",
       "      <td>1997</td>\n",
       "      <td>automatik</td>\n",
       "      <td>286</td>\n",
       "      <td>7er</td>\n",
       "      <td>150,000km</td>\n",
       "      <td>6</td>\n",
       "      <td>benzin</td>\n",
       "      <td>bmw</td>\n",
       "      <td>nein</td>\n",
       "      <td>2016-04-04 00:00:00</td>\n",
       "      <td>0</td>\n",
       "      <td>71034</td>\n",
       "      <td>2016-04-06 14:45:08</td>\n",
       "    </tr>\n",
       "    <tr>\n",
       "      <th>2</th>\n",
       "      <td>2016-03-26 18:57:24</td>\n",
       "      <td>Volkswagen_Golf_1.6_United</td>\n",
       "      <td>privat</td>\n",
       "      <td>Angebot</td>\n",
       "      <td>$8,990</td>\n",
       "      <td>test</td>\n",
       "      <td>limousine</td>\n",
       "      <td>2009</td>\n",
       "      <td>manuell</td>\n",
       "      <td>102</td>\n",
       "      <td>golf</td>\n",
       "      <td>70,000km</td>\n",
       "      <td>7</td>\n",
       "      <td>benzin</td>\n",
       "      <td>volkswagen</td>\n",
       "      <td>nein</td>\n",
       "      <td>2016-03-26 00:00:00</td>\n",
       "      <td>0</td>\n",
       "      <td>35394</td>\n",
       "      <td>2016-04-06 20:15:37</td>\n",
       "    </tr>\n",
       "  </tbody>\n",
       "</table>\n",
       "</div>"
      ],
      "text/plain": [
       "           dateCrawled                                        name  seller  \\\n",
       "0  2016-03-26 17:47:46            Peugeot_807_160_NAVTECH_ON_BOARD  privat   \n",
       "1  2016-04-04 13:38:56  BMW_740i_4_4_Liter_HAMANN_UMBAU_Mega_Optik  privat   \n",
       "2  2016-03-26 18:57:24                  Volkswagen_Golf_1.6_United  privat   \n",
       "\n",
       "  offerType   price   abtest vehicleType  yearOfRegistration    gearbox  \\\n",
       "0   Angebot  $5,000  control         bus                2004    manuell   \n",
       "1   Angebot  $8,500  control   limousine                1997  automatik   \n",
       "2   Angebot  $8,990     test   limousine                2009    manuell   \n",
       "\n",
       "   powerPS   model   odometer  monthOfRegistration fuelType       brand  \\\n",
       "0      158  andere  150,000km                    3      lpg     peugeot   \n",
       "1      286     7er  150,000km                    6   benzin         bmw   \n",
       "2      102    golf   70,000km                    7   benzin  volkswagen   \n",
       "\n",
       "  notRepairedDamage          dateCreated  nrOfPictures  postalCode  \\\n",
       "0              nein  2016-03-26 00:00:00             0       79588   \n",
       "1              nein  2016-04-04 00:00:00             0       71034   \n",
       "2              nein  2016-03-26 00:00:00             0       35394   \n",
       "\n",
       "              lastSeen  \n",
       "0  2016-04-06 06:45:54  \n",
       "1  2016-04-06 14:45:08  \n",
       "2  2016-04-06 20:15:37  "
      ]
     },
     "execution_count": 4,
     "metadata": {},
     "output_type": "execute_result"
    }
   ],
   "source": [
    "autos_Windows1252.head(3)"
   ]
  },
  {
   "cell_type": "markdown",
   "metadata": {},
   "source": [
    "We can make the following observations about the data set:\n",
    "\n",
    "- 50,000 data points\n",
    "- 20 Columns of data\n",
    "- There are two types of data, in64 and string\n",
    "    - 5 Columns of in64 type data\n",
    "    - 15 columns of string type data\n",
    "    - There is no null data"
   ]
  },
  {
   "cell_type": "code",
   "execution_count": 5,
   "metadata": {
    "collapsed": false
   },
   "outputs": [
    {
     "name": "stdout",
     "output_type": "stream",
     "text": [
      "<class 'pandas.core.frame.DataFrame'>\n",
      "RangeIndex: 50000 entries, 0 to 49999\n",
      "Data columns (total 20 columns):\n",
      "dateCrawled            50000 non-null object\n",
      "name                   50000 non-null object\n",
      "seller                 50000 non-null object\n",
      "offerType              50000 non-null object\n",
      "price                  50000 non-null object\n",
      "abtest                 50000 non-null object\n",
      "vehicleType            44905 non-null object\n",
      "yearOfRegistration     50000 non-null int64\n",
      "gearbox                47320 non-null object\n",
      "powerPS                50000 non-null int64\n",
      "model                  47242 non-null object\n",
      "odometer               50000 non-null object\n",
      "monthOfRegistration    50000 non-null int64\n",
      "fuelType               45518 non-null object\n",
      "brand                  50000 non-null object\n",
      "notRepairedDamage      40171 non-null object\n",
      "dateCreated            50000 non-null object\n",
      "nrOfPictures           50000 non-null int64\n",
      "postalCode             50000 non-null int64\n",
      "lastSeen               50000 non-null object\n",
      "dtypes: int64(5), object(15)\n",
      "memory usage: 7.6+ MB\n"
     ]
    }
   ],
   "source": [
    "autos = autos_Latin1\n",
    "autos.info()"
   ]
  },
  {
   "cell_type": "markdown",
   "metadata": {},
   "source": [
    "### Column Names\n",
    "#### Naming\n",
    "Column names were changed to match [snakecase](https://en.wikipedia.org/wiki/Snake_case) and the following:\n",
    "\n",
    "- Lower case\n",
    "- Words separated by underscore\n",
    "- Removed unnessessary words:\n",
    "    - yearOfRegistration change to registration_year\n",
    "    - monthOfRegistration changed to registration_month\n",
    "- Improved readability:\n",
    "    - notRepairedDamage changed to unrepaired_damage\n",
    "    - dateCreated changed to ad_created\n",
    "    - nrOfPictures changed to num_of_pictures\n",
    "    - powerPS changed to hp\n"
   ]
  },
  {
   "cell_type": "code",
   "execution_count": 6,
   "metadata": {
    "collapsed": false
   },
   "outputs": [
    {
     "data": {
      "text/html": [
       "<div>\n",
       "<style scoped>\n",
       "    .dataframe tbody tr th:only-of-type {\n",
       "        vertical-align: middle;\n",
       "    }\n",
       "\n",
       "    .dataframe tbody tr th {\n",
       "        vertical-align: top;\n",
       "    }\n",
       "\n",
       "    .dataframe thead th {\n",
       "        text-align: right;\n",
       "    }\n",
       "</style>\n",
       "<table border=\"1\" class=\"dataframe\">\n",
       "  <thead>\n",
       "    <tr style=\"text-align: right;\">\n",
       "      <th></th>\n",
       "      <th>date_crawled</th>\n",
       "      <th>name</th>\n",
       "      <th>seller</th>\n",
       "      <th>offer_type</th>\n",
       "      <th>price</th>\n",
       "      <th>ab_test</th>\n",
       "      <th>vehicle_type</th>\n",
       "      <th>registration_year</th>\n",
       "      <th>gearbox</th>\n",
       "      <th>hp</th>\n",
       "      <th>model</th>\n",
       "      <th>odometer</th>\n",
       "      <th>registration_month</th>\n",
       "      <th>fuel_type</th>\n",
       "      <th>brand</th>\n",
       "      <th>unrepaired_damage</th>\n",
       "      <th>ad_created</th>\n",
       "      <th>num_of_pictures</th>\n",
       "      <th>postal_code</th>\n",
       "      <th>last_seen</th>\n",
       "    </tr>\n",
       "  </thead>\n",
       "  <tbody>\n",
       "    <tr>\n",
       "      <th>0</th>\n",
       "      <td>2016-03-26 17:47:46</td>\n",
       "      <td>Peugeot_807_160_NAVTECH_ON_BOARD</td>\n",
       "      <td>privat</td>\n",
       "      <td>Angebot</td>\n",
       "      <td>$5,000</td>\n",
       "      <td>control</td>\n",
       "      <td>bus</td>\n",
       "      <td>2004</td>\n",
       "      <td>manuell</td>\n",
       "      <td>158</td>\n",
       "      <td>andere</td>\n",
       "      <td>150,000km</td>\n",
       "      <td>3</td>\n",
       "      <td>lpg</td>\n",
       "      <td>peugeot</td>\n",
       "      <td>nein</td>\n",
       "      <td>2016-03-26 00:00:00</td>\n",
       "      <td>0</td>\n",
       "      <td>79588</td>\n",
       "      <td>2016-04-06 06:45:54</td>\n",
       "    </tr>\n",
       "  </tbody>\n",
       "</table>\n",
       "</div>"
      ],
      "text/plain": [
       "          date_crawled                              name  seller offer_type  \\\n",
       "0  2016-03-26 17:47:46  Peugeot_807_160_NAVTECH_ON_BOARD  privat    Angebot   \n",
       "\n",
       "    price  ab_test vehicle_type  registration_year  gearbox   hp   model  \\\n",
       "0  $5,000  control          bus               2004  manuell  158  andere   \n",
       "\n",
       "    odometer  registration_month fuel_type    brand unrepaired_damage  \\\n",
       "0  150,000km                   3       lpg  peugeot              nein   \n",
       "\n",
       "            ad_created  num_of_pictures  postal_code            last_seen  \n",
       "0  2016-03-26 00:00:00                0        79588  2016-04-06 06:45:54  "
      ]
     },
     "execution_count": 6,
     "metadata": {},
     "output_type": "execute_result"
    }
   ],
   "source": [
    "new_columns = [\n",
    "    'date_crawled',\n",
    "    'name',\n",
    "    'seller',\n",
    "    'offer_type',\n",
    "    'price',\n",
    "    'ab_test',\n",
    "    'vehicle_type',\n",
    "    'registration_year',\n",
    "    'gearbox',\n",
    "    'hp',\n",
    "    'model',\n",
    "    'odometer',\n",
    "    'registration_month',\n",
    "    'fuel_type',\n",
    "    'brand',\n",
    "    'unrepaired_damage',\n",
    "    'ad_created',\n",
    "    'num_of_pictures',\n",
    "    'postal_code',\n",
    "    'last_seen'   \n",
    "]\n",
    "\n",
    "autos.columns = new_columns\n",
    "autos.head(1)"
   ]
  },
  {
   "cell_type": "markdown",
   "metadata": {},
   "source": [
    "### Data Cleaning\n",
    "\n",
    "#### Initial Observations\n",
    "##### Numeric Data\n",
    "The following analysis shows some problems with the numerical data that can be corrected.\n",
    "\n",
    "- ***registration_year***\n",
    "    - Minimum registration year is 1000.\n",
    "    - Maximum registration year is 9999.\n",
    "- ***hp***\n",
    "    - Minimum hp is 0, which must be an error.\n",
    "- ***registration_month***\n",
    "    - Minimum registration month is 0.\n",
    "- ***num_of_pictures***\n",
    "    - This data is 0 for all 50,000 rows so has no value.\n",
    "- ***postal_code***\n",
    "    - [German Postal Codes](https://en.wikipedia.org/wiki/List_of_postal_codes_in_Germany) have been 5 digits since 1993, before the start of eBay.\n",
    "    - Some postal codes are less than 5 digits in length.\n",
    "    - Some postal codes are more than 5 digits in length."
   ]
  },
  {
   "cell_type": "code",
   "execution_count": 7,
   "metadata": {
    "collapsed": false
   },
   "outputs": [
    {
     "data": {
      "text/html": [
       "<div>\n",
       "<style scoped>\n",
       "    .dataframe tbody tr th:only-of-type {\n",
       "        vertical-align: middle;\n",
       "    }\n",
       "\n",
       "    .dataframe tbody tr th {\n",
       "        vertical-align: top;\n",
       "    }\n",
       "\n",
       "    .dataframe thead th {\n",
       "        text-align: right;\n",
       "    }\n",
       "</style>\n",
       "<table border=\"1\" class=\"dataframe\">\n",
       "  <thead>\n",
       "    <tr style=\"text-align: right;\">\n",
       "      <th></th>\n",
       "      <th>registration_year</th>\n",
       "      <th>hp</th>\n",
       "      <th>registration_month</th>\n",
       "      <th>num_of_pictures</th>\n",
       "      <th>postal_code</th>\n",
       "    </tr>\n",
       "  </thead>\n",
       "  <tbody>\n",
       "    <tr>\n",
       "      <th>count</th>\n",
       "      <td>50000.000000</td>\n",
       "      <td>50000.000000</td>\n",
       "      <td>50000.000000</td>\n",
       "      <td>50000.0</td>\n",
       "      <td>50000.000000</td>\n",
       "    </tr>\n",
       "    <tr>\n",
       "      <th>mean</th>\n",
       "      <td>2005.073280</td>\n",
       "      <td>116.355920</td>\n",
       "      <td>5.723360</td>\n",
       "      <td>0.0</td>\n",
       "      <td>50813.627300</td>\n",
       "    </tr>\n",
       "    <tr>\n",
       "      <th>std</th>\n",
       "      <td>105.712813</td>\n",
       "      <td>209.216627</td>\n",
       "      <td>3.711984</td>\n",
       "      <td>0.0</td>\n",
       "      <td>25779.747957</td>\n",
       "    </tr>\n",
       "    <tr>\n",
       "      <th>min</th>\n",
       "      <td>1000.000000</td>\n",
       "      <td>0.000000</td>\n",
       "      <td>0.000000</td>\n",
       "      <td>0.0</td>\n",
       "      <td>1067.000000</td>\n",
       "    </tr>\n",
       "    <tr>\n",
       "      <th>25%</th>\n",
       "      <td>1999.000000</td>\n",
       "      <td>70.000000</td>\n",
       "      <td>3.000000</td>\n",
       "      <td>0.0</td>\n",
       "      <td>30451.000000</td>\n",
       "    </tr>\n",
       "    <tr>\n",
       "      <th>50%</th>\n",
       "      <td>2003.000000</td>\n",
       "      <td>105.000000</td>\n",
       "      <td>6.000000</td>\n",
       "      <td>0.0</td>\n",
       "      <td>49577.000000</td>\n",
       "    </tr>\n",
       "    <tr>\n",
       "      <th>75%</th>\n",
       "      <td>2008.000000</td>\n",
       "      <td>150.000000</td>\n",
       "      <td>9.000000</td>\n",
       "      <td>0.0</td>\n",
       "      <td>71540.000000</td>\n",
       "    </tr>\n",
       "    <tr>\n",
       "      <th>max</th>\n",
       "      <td>9999.000000</td>\n",
       "      <td>17700.000000</td>\n",
       "      <td>12.000000</td>\n",
       "      <td>0.0</td>\n",
       "      <td>99998.000000</td>\n",
       "    </tr>\n",
       "  </tbody>\n",
       "</table>\n",
       "</div>"
      ],
      "text/plain": [
       "       registration_year            hp  registration_month  num_of_pictures  \\\n",
       "count       50000.000000  50000.000000        50000.000000          50000.0   \n",
       "mean         2005.073280    116.355920            5.723360              0.0   \n",
       "std           105.712813    209.216627            3.711984              0.0   \n",
       "min          1000.000000      0.000000            0.000000              0.0   \n",
       "25%          1999.000000     70.000000            3.000000              0.0   \n",
       "50%          2003.000000    105.000000            6.000000              0.0   \n",
       "75%          2008.000000    150.000000            9.000000              0.0   \n",
       "max          9999.000000  17700.000000           12.000000              0.0   \n",
       "\n",
       "        postal_code  \n",
       "count  50000.000000  \n",
       "mean   50813.627300  \n",
       "std    25779.747957  \n",
       "min     1067.000000  \n",
       "25%    30451.000000  \n",
       "50%    49577.000000  \n",
       "75%    71540.000000  \n",
       "max    99998.000000  "
      ]
     },
     "execution_count": 7,
     "metadata": {},
     "output_type": "execute_result"
    }
   ],
   "source": [
    "autos.describe()"
   ]
  },
  {
   "cell_type": "markdown",
   "metadata": {},
   "source": [
    "##### Non-Numeric Data\n",
    "- ***date_crawled***\n",
    "    - Nothing unusual.\n",
    "- ***name***\n",
    "    - Nothing unusual.\n",
    "- ***seller***\n",
    "    - 49,999 of 50,000 are 'privat' (English - private)\n",
    "    - Column data has no value.\n",
    "- ***offer_type***\n",
    "    - 49,999 of 50,000 are 'Angebot' (English - offer)\n",
    "    - Column data has no value.\n",
    "- ***price***\n",
    "    - Top price is \\\\$0 (free) which may be an error\n",
    "    - Should be numeric\n",
    "- ***ab_test***\n",
    "    - Nothing unusual\n",
    "- ***vehicle_type***\n",
    "    - 44,905 count (should be 50,000)\n",
    "- ***gearbox***\n",
    "    - 47,320 count (should be 50,000)\n",
    "- ***model***\n",
    "    - 47,242 count (should be 50,000)\n",
    "- ***odometer***\n",
    "    - Should be numeric\n",
    "    - Should change name of column to include units (km)\n",
    "- ***fuel_type***\n",
    "    - 45,518 count (should be 50,000)\n",
    "    - 7 unique fuel types might be an error\n",
    "        - 3 unique types (gas, diesel, electric) were expected\n",
    "        - Perhaps different grades of fuel, for example [gasoline octane](https://en.wikipedia.org/wiki/Octane_rating), are specified\n",
    "        - Should be further investigated\n",
    "- ***brand***\n",
    "    - Nothing unusual\n",
    "- ***unrepaired_damage***\n",
    "    - Nothing unusual\n",
    "- ***date_created***\n",
    "    - Nothing unusual\n",
    "- ***last_seen***\n",
    "    - Nothing unusual\n"
   ]
  },
  {
   "cell_type": "code",
   "execution_count": 8,
   "metadata": {
    "collapsed": false
   },
   "outputs": [
    {
     "data": {
      "text/html": [
       "<div>\n",
       "<style scoped>\n",
       "    .dataframe tbody tr th:only-of-type {\n",
       "        vertical-align: middle;\n",
       "    }\n",
       "\n",
       "    .dataframe tbody tr th {\n",
       "        vertical-align: top;\n",
       "    }\n",
       "\n",
       "    .dataframe thead th {\n",
       "        text-align: right;\n",
       "    }\n",
       "</style>\n",
       "<table border=\"1\" class=\"dataframe\">\n",
       "  <thead>\n",
       "    <tr style=\"text-align: right;\">\n",
       "      <th></th>\n",
       "      <th>date_crawled</th>\n",
       "      <th>name</th>\n",
       "      <th>seller</th>\n",
       "      <th>offer_type</th>\n",
       "      <th>price</th>\n",
       "      <th>ab_test</th>\n",
       "      <th>vehicle_type</th>\n",
       "      <th>gearbox</th>\n",
       "      <th>model</th>\n",
       "      <th>odometer</th>\n",
       "      <th>fuel_type</th>\n",
       "      <th>brand</th>\n",
       "      <th>unrepaired_damage</th>\n",
       "      <th>ad_created</th>\n",
       "      <th>last_seen</th>\n",
       "    </tr>\n",
       "  </thead>\n",
       "  <tbody>\n",
       "    <tr>\n",
       "      <th>count</th>\n",
       "      <td>50000</td>\n",
       "      <td>50000</td>\n",
       "      <td>50000</td>\n",
       "      <td>50000</td>\n",
       "      <td>50000</td>\n",
       "      <td>50000</td>\n",
       "      <td>44905</td>\n",
       "      <td>47320</td>\n",
       "      <td>47242</td>\n",
       "      <td>50000</td>\n",
       "      <td>45518</td>\n",
       "      <td>50000</td>\n",
       "      <td>40171</td>\n",
       "      <td>50000</td>\n",
       "      <td>50000</td>\n",
       "    </tr>\n",
       "    <tr>\n",
       "      <th>unique</th>\n",
       "      <td>48213</td>\n",
       "      <td>38754</td>\n",
       "      <td>2</td>\n",
       "      <td>2</td>\n",
       "      <td>2357</td>\n",
       "      <td>2</td>\n",
       "      <td>8</td>\n",
       "      <td>2</td>\n",
       "      <td>245</td>\n",
       "      <td>13</td>\n",
       "      <td>7</td>\n",
       "      <td>40</td>\n",
       "      <td>2</td>\n",
       "      <td>76</td>\n",
       "      <td>39481</td>\n",
       "    </tr>\n",
       "    <tr>\n",
       "      <th>top</th>\n",
       "      <td>2016-03-27 22:55:05</td>\n",
       "      <td>Ford_Fiesta</td>\n",
       "      <td>privat</td>\n",
       "      <td>Angebot</td>\n",
       "      <td>$0</td>\n",
       "      <td>test</td>\n",
       "      <td>limousine</td>\n",
       "      <td>manuell</td>\n",
       "      <td>golf</td>\n",
       "      <td>150,000km</td>\n",
       "      <td>benzin</td>\n",
       "      <td>volkswagen</td>\n",
       "      <td>nein</td>\n",
       "      <td>2016-04-03 00:00:00</td>\n",
       "      <td>2016-04-07 06:17:27</td>\n",
       "    </tr>\n",
       "    <tr>\n",
       "      <th>freq</th>\n",
       "      <td>3</td>\n",
       "      <td>78</td>\n",
       "      <td>49999</td>\n",
       "      <td>49999</td>\n",
       "      <td>1421</td>\n",
       "      <td>25756</td>\n",
       "      <td>12859</td>\n",
       "      <td>36993</td>\n",
       "      <td>4024</td>\n",
       "      <td>32424</td>\n",
       "      <td>30107</td>\n",
       "      <td>10687</td>\n",
       "      <td>35232</td>\n",
       "      <td>1946</td>\n",
       "      <td>8</td>\n",
       "    </tr>\n",
       "  </tbody>\n",
       "</table>\n",
       "</div>"
      ],
      "text/plain": [
       "               date_crawled         name  seller offer_type  price ab_test  \\\n",
       "count                 50000        50000   50000      50000  50000   50000   \n",
       "unique                48213        38754       2          2   2357       2   \n",
       "top     2016-03-27 22:55:05  Ford_Fiesta  privat    Angebot     $0    test   \n",
       "freq                      3           78   49999      49999   1421   25756   \n",
       "\n",
       "       vehicle_type  gearbox  model   odometer fuel_type       brand  \\\n",
       "count         44905    47320  47242      50000     45518       50000   \n",
       "unique            8        2    245         13         7          40   \n",
       "top       limousine  manuell   golf  150,000km    benzin  volkswagen   \n",
       "freq          12859    36993   4024      32424     30107       10687   \n",
       "\n",
       "       unrepaired_damage           ad_created            last_seen  \n",
       "count              40171                50000                50000  \n",
       "unique                 2                   76                39481  \n",
       "top                 nein  2016-04-03 00:00:00  2016-04-07 06:17:27  \n",
       "freq               35232                 1946                    8  "
      ]
     },
     "execution_count": 8,
     "metadata": {},
     "output_type": "execute_result"
    }
   ],
   "source": [
    "autos.describe(include=np.object)"
   ]
  },
  {
   "cell_type": "markdown",
   "metadata": {},
   "source": [
    "#### Converting 'price' and 'odometer' to Numeric Data\n"
   ]
  },
  {
   "cell_type": "code",
   "execution_count": 9,
   "metadata": {
    "collapsed": false
   },
   "outputs": [],
   "source": [
    "def string_to_float(string):\n",
    "    # We only want to keep the digits and the decimal point in the string\n",
    "    # The following is a string which stores the allowed characters\n",
    "    allowed_chars = '0123456789.'\n",
    "    \n",
    "    # We can create a new string using the allowed_chars to act as a filter\n",
    "    new_string = ''.join(c for c in string if c in allowed_chars)\n",
    "    \n",
    "    # Convert string to float and return the value\n",
    "    return float(new_string)\n",
    "\n",
    "autos[\"price\"] = autos[\"price\"].apply(string_to_float)\n",
    "autos[\"odometer\"] = autos[\"odometer\"].apply(string_to_float)"
   ]
  },
  {
   "cell_type": "markdown",
   "metadata": {},
   "source": [
    "We can see that price and odometer are float type data."
   ]
  },
  {
   "cell_type": "code",
   "execution_count": 10,
   "metadata": {
    "collapsed": false
   },
   "outputs": [
    {
     "data": {
      "text/html": [
       "<div>\n",
       "<style scoped>\n",
       "    .dataframe tbody tr th:only-of-type {\n",
       "        vertical-align: middle;\n",
       "    }\n",
       "\n",
       "    .dataframe tbody tr th {\n",
       "        vertical-align: top;\n",
       "    }\n",
       "\n",
       "    .dataframe thead th {\n",
       "        text-align: right;\n",
       "    }\n",
       "</style>\n",
       "<table border=\"1\" class=\"dataframe\">\n",
       "  <thead>\n",
       "    <tr style=\"text-align: right;\">\n",
       "      <th></th>\n",
       "      <th>price</th>\n",
       "      <th>registration_year</th>\n",
       "      <th>hp</th>\n",
       "      <th>odometer</th>\n",
       "      <th>registration_month</th>\n",
       "      <th>num_of_pictures</th>\n",
       "      <th>postal_code</th>\n",
       "    </tr>\n",
       "  </thead>\n",
       "  <tbody>\n",
       "    <tr>\n",
       "      <th>count</th>\n",
       "      <td>5.000000e+04</td>\n",
       "      <td>50000.000000</td>\n",
       "      <td>50000.000000</td>\n",
       "      <td>50000.000000</td>\n",
       "      <td>50000.000000</td>\n",
       "      <td>50000.0</td>\n",
       "      <td>50000.000000</td>\n",
       "    </tr>\n",
       "    <tr>\n",
       "      <th>mean</th>\n",
       "      <td>9.840044e+03</td>\n",
       "      <td>2005.073280</td>\n",
       "      <td>116.355920</td>\n",
       "      <td>125732.700000</td>\n",
       "      <td>5.723360</td>\n",
       "      <td>0.0</td>\n",
       "      <td>50813.627300</td>\n",
       "    </tr>\n",
       "    <tr>\n",
       "      <th>std</th>\n",
       "      <td>4.811044e+05</td>\n",
       "      <td>105.712813</td>\n",
       "      <td>209.216627</td>\n",
       "      <td>40042.211706</td>\n",
       "      <td>3.711984</td>\n",
       "      <td>0.0</td>\n",
       "      <td>25779.747957</td>\n",
       "    </tr>\n",
       "    <tr>\n",
       "      <th>min</th>\n",
       "      <td>0.000000e+00</td>\n",
       "      <td>1000.000000</td>\n",
       "      <td>0.000000</td>\n",
       "      <td>5000.000000</td>\n",
       "      <td>0.000000</td>\n",
       "      <td>0.0</td>\n",
       "      <td>1067.000000</td>\n",
       "    </tr>\n",
       "    <tr>\n",
       "      <th>25%</th>\n",
       "      <td>1.100000e+03</td>\n",
       "      <td>1999.000000</td>\n",
       "      <td>70.000000</td>\n",
       "      <td>125000.000000</td>\n",
       "      <td>3.000000</td>\n",
       "      <td>0.0</td>\n",
       "      <td>30451.000000</td>\n",
       "    </tr>\n",
       "    <tr>\n",
       "      <th>50%</th>\n",
       "      <td>2.950000e+03</td>\n",
       "      <td>2003.000000</td>\n",
       "      <td>105.000000</td>\n",
       "      <td>150000.000000</td>\n",
       "      <td>6.000000</td>\n",
       "      <td>0.0</td>\n",
       "      <td>49577.000000</td>\n",
       "    </tr>\n",
       "    <tr>\n",
       "      <th>75%</th>\n",
       "      <td>7.200000e+03</td>\n",
       "      <td>2008.000000</td>\n",
       "      <td>150.000000</td>\n",
       "      <td>150000.000000</td>\n",
       "      <td>9.000000</td>\n",
       "      <td>0.0</td>\n",
       "      <td>71540.000000</td>\n",
       "    </tr>\n",
       "    <tr>\n",
       "      <th>max</th>\n",
       "      <td>1.000000e+08</td>\n",
       "      <td>9999.000000</td>\n",
       "      <td>17700.000000</td>\n",
       "      <td>150000.000000</td>\n",
       "      <td>12.000000</td>\n",
       "      <td>0.0</td>\n",
       "      <td>99998.000000</td>\n",
       "    </tr>\n",
       "  </tbody>\n",
       "</table>\n",
       "</div>"
      ],
      "text/plain": [
       "              price  registration_year            hp       odometer  \\\n",
       "count  5.000000e+04       50000.000000  50000.000000   50000.000000   \n",
       "mean   9.840044e+03        2005.073280    116.355920  125732.700000   \n",
       "std    4.811044e+05         105.712813    209.216627   40042.211706   \n",
       "min    0.000000e+00        1000.000000      0.000000    5000.000000   \n",
       "25%    1.100000e+03        1999.000000     70.000000  125000.000000   \n",
       "50%    2.950000e+03        2003.000000    105.000000  150000.000000   \n",
       "75%    7.200000e+03        2008.000000    150.000000  150000.000000   \n",
       "max    1.000000e+08        9999.000000  17700.000000  150000.000000   \n",
       "\n",
       "       registration_month  num_of_pictures   postal_code  \n",
       "count        50000.000000          50000.0  50000.000000  \n",
       "mean             5.723360              0.0  50813.627300  \n",
       "std              3.711984              0.0  25779.747957  \n",
       "min              0.000000              0.0   1067.000000  \n",
       "25%              3.000000              0.0  30451.000000  \n",
       "50%              6.000000              0.0  49577.000000  \n",
       "75%              9.000000              0.0  71540.000000  \n",
       "max             12.000000              0.0  99998.000000  "
      ]
     },
     "execution_count": 10,
     "metadata": {},
     "output_type": "execute_result"
    }
   ],
   "source": [
    "autos.describe()"
   ]
  },
  {
   "cell_type": "markdown",
   "metadata": {},
   "source": [
    "Renaming ***odometer*** to ***odometer_km*** since km was removed from all data."
   ]
  },
  {
   "cell_type": "code",
   "execution_count": 11,
   "metadata": {
    "collapsed": false
   },
   "outputs": [
    {
     "data": {
      "text/html": [
       "<div>\n",
       "<style scoped>\n",
       "    .dataframe tbody tr th:only-of-type {\n",
       "        vertical-align: middle;\n",
       "    }\n",
       "\n",
       "    .dataframe tbody tr th {\n",
       "        vertical-align: top;\n",
       "    }\n",
       "\n",
       "    .dataframe thead th {\n",
       "        text-align: right;\n",
       "    }\n",
       "</style>\n",
       "<table border=\"1\" class=\"dataframe\">\n",
       "  <thead>\n",
       "    <tr style=\"text-align: right;\">\n",
       "      <th></th>\n",
       "      <th>date_crawled</th>\n",
       "      <th>name</th>\n",
       "      <th>seller</th>\n",
       "      <th>offer_type</th>\n",
       "      <th>price</th>\n",
       "      <th>ab_test</th>\n",
       "      <th>vehicle_type</th>\n",
       "      <th>registration_year</th>\n",
       "      <th>gearbox</th>\n",
       "      <th>hp</th>\n",
       "      <th>model</th>\n",
       "      <th>odometer_km</th>\n",
       "      <th>registration_month</th>\n",
       "      <th>fuel_type</th>\n",
       "      <th>brand</th>\n",
       "      <th>unrepaired_damage</th>\n",
       "      <th>ad_created</th>\n",
       "      <th>num_of_pictures</th>\n",
       "      <th>postal_code</th>\n",
       "      <th>last_seen</th>\n",
       "    </tr>\n",
       "  </thead>\n",
       "  <tbody>\n",
       "    <tr>\n",
       "      <th>0</th>\n",
       "      <td>2016-03-26 17:47:46</td>\n",
       "      <td>Peugeot_807_160_NAVTECH_ON_BOARD</td>\n",
       "      <td>privat</td>\n",
       "      <td>Angebot</td>\n",
       "      <td>5000.0</td>\n",
       "      <td>control</td>\n",
       "      <td>bus</td>\n",
       "      <td>2004</td>\n",
       "      <td>manuell</td>\n",
       "      <td>158</td>\n",
       "      <td>andere</td>\n",
       "      <td>150000.0</td>\n",
       "      <td>3</td>\n",
       "      <td>lpg</td>\n",
       "      <td>peugeot</td>\n",
       "      <td>nein</td>\n",
       "      <td>2016-03-26 00:00:00</td>\n",
       "      <td>0</td>\n",
       "      <td>79588</td>\n",
       "      <td>2016-04-06 06:45:54</td>\n",
       "    </tr>\n",
       "  </tbody>\n",
       "</table>\n",
       "</div>"
      ],
      "text/plain": [
       "          date_crawled                              name  seller offer_type  \\\n",
       "0  2016-03-26 17:47:46  Peugeot_807_160_NAVTECH_ON_BOARD  privat    Angebot   \n",
       "\n",
       "    price  ab_test vehicle_type  registration_year  gearbox   hp   model  \\\n",
       "0  5000.0  control          bus               2004  manuell  158  andere   \n",
       "\n",
       "   odometer_km  registration_month fuel_type    brand unrepaired_damage  \\\n",
       "0     150000.0                   3       lpg  peugeot              nein   \n",
       "\n",
       "            ad_created  num_of_pictures  postal_code            last_seen  \n",
       "0  2016-03-26 00:00:00                0        79588  2016-04-06 06:45:54  "
      ]
     },
     "execution_count": 11,
     "metadata": {},
     "output_type": "execute_result"
    }
   ],
   "source": [
    "new_column = {'odometer': 'odometer_km'}\n",
    "autos.rename(columns=new_column, inplace=True)\n",
    "autos.head(1)"
   ]
  },
  {
   "cell_type": "markdown",
   "metadata": {},
   "source": [
    "### Numeric Data Cleaning\n",
    "Analysis of numeric data:\n",
    "- ***price***\n",
    "    - Some prices too low (free)\n",
    "    - Some prices too high (100,000,000)\n",
    "- ***registration_year***\n",
    "    - Minimum registration year is 1000.\n",
    "    - Maximum registration year is 9999.\n",
    "- ***hp***\n",
    "    - Minimum hp is 0\n",
    "- ***odometer_km***\n",
    "    - Nothing unusual.\n",
    "- ***registration_month***\n",
    "    - Minimum registration month is 0.\n",
    "- ***num_of_pictures***\n",
    "    - This data is 0 for all 50,000 rows so has no value.\n",
    "- ***postal_code***\n",
    "    - [German Postal Codes](https://en.wikipedia.org/wiki/List_of_postal_codes_in_Germany) have been 5 digits since 1993, before the start of eBay.\n",
    "    - Some postal codes are less than 5 digits in length.\n",
    "    - Some postal codes are more than 5 digits in length."
   ]
  },
  {
   "cell_type": "markdown",
   "metadata": {},
   "source": [
    "## Price\n",
    "### Cleaning 'price'\n",
    "Price has values that seem to high or too low to be possible.  There are no NaN in the data.\n",
    "#### Checking for NaN\n"
   ]
  },
  {
   "cell_type": "code",
   "execution_count": 12,
   "metadata": {
    "collapsed": false
   },
   "outputs": [
    {
     "data": {
      "text/plain": [
       "0"
      ]
     },
     "execution_count": 12,
     "metadata": {},
     "output_type": "execute_result"
    }
   ],
   "source": [
    "autos['price'].isnull().sum()"
   ]
  },
  {
   "cell_type": "markdown",
   "metadata": {},
   "source": [
    "#### Top 20 Lowest Prices\n",
    "Based on review of the lowest prices it is clear that many values are much too low to be considered reasonable.  Most of them are zero, but there are many that should be fixed or removed."
   ]
  },
  {
   "cell_type": "code",
   "execution_count": 13,
   "metadata": {
    "collapsed": false
   },
   "outputs": [
    {
     "data": {
      "text/plain": [
       "0.0     1421\n",
       "1.0      156\n",
       "2.0        3\n",
       "3.0        1\n",
       "5.0        2\n",
       "8.0        1\n",
       "9.0        1\n",
       "10.0       7\n",
       "11.0       2\n",
       "12.0       3\n",
       "13.0       2\n",
       "14.0       1\n",
       "15.0       2\n",
       "17.0       3\n",
       "18.0       1\n",
       "20.0       4\n",
       "25.0       5\n",
       "29.0       1\n",
       "30.0       7\n",
       "35.0       1\n",
       "Name: price, dtype: int64"
      ]
     },
     "execution_count": 13,
     "metadata": {},
     "output_type": "execute_result"
    }
   ],
   "source": [
    "autos['price'].value_counts().sort_index().head(20)"
   ]
  },
  {
   "cell_type": "markdown",
   "metadata": {},
   "source": [
    "If we remove all cars that are less than $200 from the list, we are left with 47,659 of 50,000 data points.  Since this retains over 95% of the original data, it seems like a reasonable compromise."
   ]
  },
  {
   "cell_type": "code",
   "execution_count": 14,
   "metadata": {
    "collapsed": false
   },
   "outputs": [
    {
     "data": {
      "text/plain": [
       "(47659, 20)"
      ]
     },
     "execution_count": 14,
     "metadata": {},
     "output_type": "execute_result"
    }
   ],
   "source": [
    "autos = autos.loc[autos['price'] >= 200, :]\n",
    "autos.shape"
   ]
  },
  {
   "cell_type": "markdown",
   "metadata": {},
   "source": [
    "#### Top 20 Highest Prices\n",
    "The top 20 highest prices reveal some impossibly high values."
   ]
  },
  {
   "cell_type": "code",
   "execution_count": 15,
   "metadata": {
    "collapsed": false
   },
   "outputs": [
    {
     "data": {
      "text/plain": [
       "99999999.0    1\n",
       "27322222.0    1\n",
       "12345678.0    3\n",
       "11111111.0    2\n",
       "10000000.0    1\n",
       "3890000.0     1\n",
       "1300000.0     1\n",
       "1234566.0     1\n",
       "999999.0      2\n",
       "999990.0      1\n",
       "350000.0      1\n",
       "345000.0      1\n",
       "299000.0      1\n",
       "295000.0      1\n",
       "265000.0      1\n",
       "259000.0      1\n",
       "250000.0      1\n",
       "220000.0      1\n",
       "198000.0      1\n",
       "197000.0      1\n",
       "Name: price, dtype: int64"
      ]
     },
     "execution_count": 15,
     "metadata": {},
     "output_type": "execute_result"
    }
   ],
   "source": [
    "autos['price'].value_counts().sort_index(ascending=False).head(20)"
   ]
  },
  {
   "cell_type": "markdown",
   "metadata": {},
   "source": [
    "The top 10 data points are clearly invalid and can either either be removed or fixed based on other data in the table.  Since there are only 10 of 50,000 data points removing them should not significantly impact the data set."
   ]
  },
  {
   "cell_type": "code",
   "execution_count": 16,
   "metadata": {
    "collapsed": false
   },
   "outputs": [
    {
     "data": {
      "text/plain": [
       "350000.0    1\n",
       "345000.0    1\n",
       "299000.0    1\n",
       "295000.0    1\n",
       "265000.0    1\n",
       "259000.0    1\n",
       "250000.0    1\n",
       "220000.0    1\n",
       "198000.0    1\n",
       "197000.0    1\n",
       "194000.0    1\n",
       "190000.0    1\n",
       "180000.0    1\n",
       "175000.0    1\n",
       "169999.0    1\n",
       "169000.0    1\n",
       "163991.0    1\n",
       "163500.0    1\n",
       "155000.0    1\n",
       "151990.0    1\n",
       "Name: price, dtype: int64"
      ]
     },
     "execution_count": 16,
     "metadata": {},
     "output_type": "execute_result"
    }
   ],
   "source": [
    "autos = autos.loc[autos['price'] <= 350000, :]\n",
    "autos['price'].value_counts().sort_index(ascending=False).head(20)"
   ]
  },
  {
   "cell_type": "markdown",
   "metadata": {},
   "source": [
    "#### Remaining Data Points\n",
    "After cleaning the 'price' column, we are left with 47,645 of 50,000 data points (95.3%)."
   ]
  },
  {
   "cell_type": "code",
   "execution_count": 17,
   "metadata": {
    "collapsed": false
   },
   "outputs": [
    {
     "data": {
      "text/plain": [
       "(47645, 20)"
      ]
     },
     "execution_count": 17,
     "metadata": {},
     "output_type": "execute_result"
    }
   ],
   "source": [
    "autos.shape"
   ]
  },
  {
   "cell_type": "markdown",
   "metadata": {},
   "source": [
    "### Price Analysis"
   ]
  },
  {
   "cell_type": "code",
   "execution_count": 18,
   "metadata": {
    "collapsed": false
   },
   "outputs": [
    {
     "data": {
      "text/plain": [
       "count     47645.000000\n",
       "mean       6000.707273\n",
       "std        9110.783444\n",
       "min         200.000000\n",
       "10%         650.000000\n",
       "25%        1300.000000\n",
       "50%        3190.000000\n",
       "75%        7500.000000\n",
       "90%       14500.000000\n",
       "95%       19999.000000\n",
       "99%       36000.000000\n",
       "max      350000.000000\n",
       "Name: price, dtype: float64"
      ]
     },
     "execution_count": 18,
     "metadata": {},
     "output_type": "execute_result"
    }
   ],
   "source": [
    "autos['price'].describe(percentiles=[.1, .25, .5, .75, .9, .95, .99])"
   ]
  },
  {
   "cell_type": "markdown",
   "metadata": {},
   "source": [
    "## Odometer\n",
    "#### Checking for NaN\n",
    "There are no NaN in 'odometer_km'."
   ]
  },
  {
   "cell_type": "code",
   "execution_count": 19,
   "metadata": {
    "collapsed": false
   },
   "outputs": [
    {
     "data": {
      "text/plain": [
       "0"
      ]
     },
     "execution_count": 19,
     "metadata": {},
     "output_type": "execute_result"
    }
   ],
   "source": [
    "autos['odometer_km'].isnull().sum()"
   ]
  },
  {
   "cell_type": "markdown",
   "metadata": {},
   "source": [
    "### Odometer Readings\n",
    "Odometer readings range from 5,000km to 150,000km. It is likely due to the nature of the data that the readings are approximations.  It is also possible that anything above 150,000km is not reported and grouped together."
   ]
  },
  {
   "cell_type": "code",
   "execution_count": 20,
   "metadata": {
    "collapsed": false
   },
   "outputs": [
    {
     "data": {
      "text/plain": [
       "150000.0    30781\n",
       "125000.0     4998\n",
       "100000.0     2083\n",
       "90000.0      1720\n",
       "80000.0      1407\n",
       "70000.0      1209\n",
       "60000.0      1145\n",
       "50000.0      1007\n",
       "40000.0       813\n",
       "30000.0       773\n",
       "20000.0       747\n",
       "10000.0       242\n",
       "5000.0        720\n",
       "Name: odometer_km, dtype: int64"
      ]
     },
     "execution_count": 20,
     "metadata": {},
     "output_type": "execute_result"
    }
   ],
   "source": [
    "autos['odometer_km'].value_counts().sort_index(ascending=False)"
   ]
  },
  {
   "cell_type": "markdown",
   "metadata": {},
   "source": [
    "### Odometer Analysis"
   ]
  },
  {
   "cell_type": "code",
   "execution_count": 21,
   "metadata": {
    "collapsed": false
   },
   "outputs": [
    {
     "data": {
      "text/plain": [
       "count     47645.000000\n",
       "mean     125887.501312\n",
       "std       39482.911790\n",
       "min        5000.000000\n",
       "25%      125000.000000\n",
       "50%      150000.000000\n",
       "75%      150000.000000\n",
       "max      150000.000000\n",
       "Name: odometer_km, dtype: float64"
      ]
     },
     "execution_count": 21,
     "metadata": {},
     "output_type": "execute_result"
    }
   ],
   "source": [
    "autos['odometer_km'].describe()"
   ]
  },
  {
   "cell_type": "markdown",
   "metadata": {},
   "source": [
    "## Date Analysis\n",
    "Data stored in ***date_crawled, ad_created, last_seen*** are string types.  ***registration_month, registration_year*** are int64 types."
   ]
  },
  {
   "cell_type": "code",
   "execution_count": 22,
   "metadata": {
    "collapsed": false
   },
   "outputs": [
    {
     "data": {
      "text/html": [
       "<div>\n",
       "<style scoped>\n",
       "    .dataframe tbody tr th:only-of-type {\n",
       "        vertical-align: middle;\n",
       "    }\n",
       "\n",
       "    .dataframe tbody tr th {\n",
       "        vertical-align: top;\n",
       "    }\n",
       "\n",
       "    .dataframe thead th {\n",
       "        text-align: right;\n",
       "    }\n",
       "</style>\n",
       "<table border=\"1\" class=\"dataframe\">\n",
       "  <thead>\n",
       "    <tr style=\"text-align: right;\">\n",
       "      <th></th>\n",
       "      <th>date_crawled</th>\n",
       "      <th>ad_created</th>\n",
       "      <th>last_seen</th>\n",
       "      <th>registration_month</th>\n",
       "      <th>registration_year</th>\n",
       "    </tr>\n",
       "  </thead>\n",
       "  <tbody>\n",
       "    <tr>\n",
       "      <th>0</th>\n",
       "      <td>2016-03-26 17:47:46</td>\n",
       "      <td>2016-03-26 00:00:00</td>\n",
       "      <td>2016-04-06 06:45:54</td>\n",
       "      <td>3</td>\n",
       "      <td>2004</td>\n",
       "    </tr>\n",
       "    <tr>\n",
       "      <th>1</th>\n",
       "      <td>2016-04-04 13:38:56</td>\n",
       "      <td>2016-04-04 00:00:00</td>\n",
       "      <td>2016-04-06 14:45:08</td>\n",
       "      <td>6</td>\n",
       "      <td>1997</td>\n",
       "    </tr>\n",
       "    <tr>\n",
       "      <th>2</th>\n",
       "      <td>2016-03-26 18:57:24</td>\n",
       "      <td>2016-03-26 00:00:00</td>\n",
       "      <td>2016-04-06 20:15:37</td>\n",
       "      <td>7</td>\n",
       "      <td>2009</td>\n",
       "    </tr>\n",
       "  </tbody>\n",
       "</table>\n",
       "</div>"
      ],
      "text/plain": [
       "          date_crawled           ad_created            last_seen  \\\n",
       "0  2016-03-26 17:47:46  2016-03-26 00:00:00  2016-04-06 06:45:54   \n",
       "1  2016-04-04 13:38:56  2016-04-04 00:00:00  2016-04-06 14:45:08   \n",
       "2  2016-03-26 18:57:24  2016-03-26 00:00:00  2016-04-06 20:15:37   \n",
       "\n",
       "   registration_month  registration_year  \n",
       "0                   3               2004  \n",
       "1                   6               1997  \n",
       "2                   7               2009  "
      ]
     },
     "execution_count": 22,
     "metadata": {},
     "output_type": "execute_result"
    }
   ],
   "source": [
    "date_columns = ['date_crawled', \n",
    "                'ad_created', \n",
    "                'last_seen', \n",
    "                'registration_month', \n",
    "                'registration_year']\n",
    "\n",
    "autos[date_columns].head(3)"
   ]
  },
  {
   "cell_type": "code",
   "execution_count": 23,
   "metadata": {
    "collapsed": false
   },
   "outputs": [
    {
     "name": "stdout",
     "output_type": "stream",
     "text": [
      "<class 'pandas.core.frame.DataFrame'>\n",
      "Int64Index: 47645 entries, 0 to 49999\n",
      "Data columns (total 5 columns):\n",
      "date_crawled          47645 non-null object\n",
      "ad_created            47645 non-null object\n",
      "last_seen             47645 non-null object\n",
      "registration_month    47645 non-null int64\n",
      "registration_year     47645 non-null int64\n",
      "dtypes: int64(2), object(3)\n",
      "memory usage: 2.2+ MB\n"
     ]
    }
   ],
   "source": [
    "autos[date_columns].info()"
   ]
  },
  {
   "cell_type": "markdown",
   "metadata": {},
   "source": [
    "### Dates\n",
    "Stripping the ***date_crawled, ad_created, last_seen*** columns of the time will allow the dates to be easily sorted.  Because the format of the date is a string \"YYYY-MM-DD HH:MM:SS\" we can take a slice that returns \"YYYY-MM-DD\" and use this to sort the data.  By appending a new column to the data we avoid losing the time data for future use."
   ]
  },
  {
   "cell_type": "code",
   "execution_count": 24,
   "metadata": {
    "collapsed": false
   },
   "outputs": [],
   "source": [
    "date_crawled_date = autos['date_crawled'].str[0:10]\n",
    "autos['date_crawled_date'] = date_crawled_date\n",
    "\n",
    "ad_created_date = autos['ad_created'].str[0:10]\n",
    "autos['ad_created_date'] = ad_created_date\n",
    "\n",
    "last_seen_date = autos['last_seen'].str[0:10]\n",
    "autos['last_seen_date'] = last_seen_date"
   ]
  },
  {
   "cell_type": "markdown",
   "metadata": {},
   "source": [
    "### Crawl Dates\n",
    "The data was collected over 34 days, starting 3/5/2016 and ending 4/7/2016.  "
   ]
  },
  {
   "cell_type": "code",
   "execution_count": 25,
   "metadata": {
    "collapsed": false
   },
   "outputs": [
    {
     "name": "stdout",
     "output_type": "stream",
     "text": [
      "Days: 34\n",
      "Start: 2016-03-05\n",
      "Finish: 2016-04-07\n"
     ]
    }
   ],
   "source": [
    "print('Days:', autos['date_crawled_date'].unique().shape[0])\n",
    "print('Start:', autos['date_crawled_date'].min())\n",
    "print('Finish:', autos['date_crawled_date'].max())"
   ]
  },
  {
   "cell_type": "markdown",
   "metadata": {},
   "source": [
    "On average, data was collected on 1,401 ads per day.  The most and least ads collected in a single day were 1,845 and 65 respectively."
   ]
  },
  {
   "cell_type": "code",
   "execution_count": 26,
   "metadata": {
    "collapsed": false
   },
   "outputs": [
    {
     "name": "stdout",
     "output_type": "stream",
     "text": [
      "Max ads: 1845\n",
      "Min ads: 65\n",
      "Avg ads: 1401.3235294117646\n"
     ]
    }
   ],
   "source": [
    "print('Max ads:', autos['date_crawled_date'].value_counts(dropna=False).max())\n",
    "print('Min ads:', autos['date_crawled_date'].value_counts(dropna=False).min())\n",
    "print('Avg ads:', autos['date_crawled_date'].value_counts(dropna=False).mean())"
   ]
  },
  {
   "cell_type": "code",
   "execution_count": 27,
   "metadata": {
    "collapsed": false,
    "scrolled": false
   },
   "outputs": [
    {
     "name": "stdout",
     "output_type": "stream",
     "text": [
      "Number of ads collected:\n",
      "2016-03-05    1208\n",
      "2016-03-06     670\n",
      "2016-03-07    1715\n",
      "2016-03-08    1578\n",
      "2016-03-09    1574\n",
      "2016-03-10    1540\n",
      "2016-03-11    1558\n",
      "2016-03-12    1757\n",
      "2016-03-13     748\n",
      "2016-03-14    1742\n",
      "2016-03-15    1631\n",
      "2016-03-16    1403\n",
      "2016-03-17    1503\n",
      "2016-03-18     611\n",
      "2016-03-19    1649\n",
      "2016-03-20    1801\n",
      "2016-03-21    1780\n",
      "2016-03-22    1558\n",
      "2016-03-23    1543\n",
      "2016-03-24    1397\n",
      "2016-03-25    1497\n",
      "2016-03-26    1535\n",
      "2016-03-27    1487\n",
      "2016-03-28    1669\n",
      "2016-03-29    1619\n",
      "2016-03-30    1615\n",
      "2016-03-31    1517\n",
      "2016-04-01    1611\n",
      "2016-04-02    1700\n",
      "2016-04-03    1845\n",
      "2016-04-04    1742\n",
      "2016-04-05     626\n",
      "2016-04-06     151\n",
      "2016-04-07      65\n",
      "Name: date_crawled_date, dtype: int64\n",
      "Percent of ads collected:\n",
      "2016-03-05    2.535418\n",
      "2016-03-06    1.406234\n",
      "2016-03-07    3.599538\n",
      "2016-03-08    3.311995\n",
      "2016-03-09    3.303600\n",
      "2016-03-10    3.232238\n",
      "2016-03-11    3.270018\n",
      "2016-03-12    3.687690\n",
      "2016-03-13    1.569944\n",
      "2016-03-14    3.656207\n",
      "2016-03-15    3.423234\n",
      "2016-03-16    2.944695\n",
      "2016-03-17    3.154581\n",
      "2016-03-18    1.282401\n",
      "2016-03-19    3.461014\n",
      "2016-03-20    3.780040\n",
      "2016-03-21    3.735964\n",
      "2016-03-22    3.270018\n",
      "2016-03-23    3.238535\n",
      "2016-03-24    2.932102\n",
      "2016-03-25    3.141988\n",
      "2016-03-26    3.221744\n",
      "2016-03-27    3.120999\n",
      "2016-03-28    3.502991\n",
      "2016-03-29    3.398048\n",
      "2016-03-30    3.389653\n",
      "2016-03-31    3.183965\n",
      "2016-04-01    3.381257\n",
      "2016-04-02    3.568055\n",
      "2016-04-03    3.872390\n",
      "2016-04-04    3.656207\n",
      "2016-04-05    1.313884\n",
      "2016-04-06    0.316927\n",
      "2016-04-07    0.136426\n",
      "Name: date_crawled_date, dtype: float64\n"
     ]
    }
   ],
   "source": [
    "print('Number of ads collected:')\n",
    "print(autos['date_crawled_date'].value_counts(dropna=False, normalize=False).sort_index())\n",
    "print('Percent of ads collected:')\n",
    "print(autos['date_crawled_date'].value_counts(dropna=False, normalize=True).sort_index()*100)"
   ]
  },
  {
   "cell_type": "markdown",
   "metadata": {},
   "source": [
    "### Ad Dates\n",
    "Data included ads created on 76 unique days between 6/11/2015 and 4/7/2016.  "
   ]
  },
  {
   "cell_type": "code",
   "execution_count": 28,
   "metadata": {
    "collapsed": false
   },
   "outputs": [
    {
     "name": "stdout",
     "output_type": "stream",
     "text": [
      "Days: 76\n",
      "Start: 2015-06-11\n",
      "Finish: 2016-04-07\n"
     ]
    }
   ],
   "source": [
    "print('Days:', autos['ad_created_date'].unique().shape[0])\n",
    "print('Start:', autos['ad_created_date'].min())\n",
    "print('Finish:', autos['ad_created_date'].max())"
   ]
  },
  {
   "cell_type": "code",
   "execution_count": 29,
   "metadata": {
    "collapsed": false
   },
   "outputs": [
    {
     "name": "stdout",
     "output_type": "stream",
     "text": [
      "Max ads: 1857\n",
      "Min ads: 1\n",
      "Avg ads: 626.9078947368421\n"
     ]
    }
   ],
   "source": [
    "print('Max ads:', autos['ad_created_date'].value_counts(dropna=False).max())\n",
    "print('Min ads:', autos['ad_created_date'].value_counts(dropna=False).min())\n",
    "print('Avg ads:', autos['ad_created_date'].value_counts(dropna=False).mean())"
   ]
  },
  {
   "cell_type": "markdown",
   "metadata": {},
   "source": [
    "On average, 627 ads were created each day.  \n",
    "\n",
    "Older dates had few ads and there were large gaps in dates indicating they have been deleted or expired.  For example, there are no ads listed between 6/11/2015 and 8/10/2015.\n",
    "\n",
    "On the other hand, newer dates showed no gaps and very large number of postings each day.  For example, there were no gaps between 3/9/2016 and 4/7/2016 and most days had well over 1,000 ads created."
   ]
  },
  {
   "cell_type": "code",
   "execution_count": 30,
   "metadata": {
    "collapsed": false,
    "scrolled": false
   },
   "outputs": [
    {
     "name": "stdout",
     "output_type": "stream",
     "text": [
      "Number of ads created:\n",
      "2015-06-11       1\n",
      "2015-08-10       1\n",
      "2015-09-09       1\n",
      "2015-11-10       1\n",
      "2015-12-05       1\n",
      "2015-12-30       1\n",
      "2016-01-03       1\n",
      "2016-01-07       1\n",
      "2016-01-10       2\n",
      "2016-01-13       1\n",
      "2016-01-14       1\n",
      "2016-01-16       1\n",
      "2016-01-22       1\n",
      "2016-01-27       3\n",
      "2016-01-29       1\n",
      "2016-02-01       1\n",
      "2016-02-02       2\n",
      "2016-02-05       2\n",
      "2016-02-07       1\n",
      "2016-02-08       1\n",
      "2016-02-09       1\n",
      "2016-02-11       1\n",
      "2016-02-12       2\n",
      "2016-02-14       2\n",
      "2016-02-16       1\n",
      "2016-02-17       1\n",
      "2016-02-18       2\n",
      "2016-02-19       3\n",
      "2016-02-20       2\n",
      "2016-02-21       3\n",
      "              ... \n",
      "2016-03-09    1579\n",
      "2016-03-10    1526\n",
      "2016-03-11    1573\n",
      "2016-03-12    1748\n",
      "2016-03-13     815\n",
      "2016-03-14    1676\n",
      "2016-03-15    1618\n",
      "2016-03-16    1427\n",
      "2016-03-17    1487\n",
      "2016-03-18     641\n",
      "2016-03-19    1597\n",
      "2016-03-20    1805\n",
      "2016-03-21    1790\n",
      "2016-03-22    1550\n",
      "2016-03-23    1535\n",
      "2016-03-24    1394\n",
      "2016-03-25    1503\n",
      "2016-03-26    1537\n",
      "2016-03-27    1484\n",
      "2016-03-28    1673\n",
      "2016-03-29    1618\n",
      "2016-03-30    1606\n",
      "2016-03-31    1519\n",
      "2016-04-01    1610\n",
      "2016-04-02    1685\n",
      "2016-04-03    1857\n",
      "2016-04-04    1759\n",
      "2016-04-05     565\n",
      "2016-04-06     155\n",
      "2016-04-07      58\n",
      "Name: ad_created_date, Length: 76, dtype: int64\n",
      "Percent of ads created:\n",
      "2015-06-11    0.002099\n",
      "2015-08-10    0.002099\n",
      "2015-09-09    0.002099\n",
      "2015-11-10    0.002099\n",
      "2015-12-05    0.002099\n",
      "2015-12-30    0.002099\n",
      "2016-01-03    0.002099\n",
      "2016-01-07    0.002099\n",
      "2016-01-10    0.004198\n",
      "2016-01-13    0.002099\n",
      "2016-01-14    0.002099\n",
      "2016-01-16    0.002099\n",
      "2016-01-22    0.002099\n",
      "2016-01-27    0.006297\n",
      "2016-01-29    0.002099\n",
      "2016-02-01    0.002099\n",
      "2016-02-02    0.004198\n",
      "2016-02-05    0.004198\n",
      "2016-02-07    0.002099\n",
      "2016-02-08    0.002099\n",
      "2016-02-09    0.002099\n",
      "2016-02-11    0.002099\n",
      "2016-02-12    0.004198\n",
      "2016-02-14    0.004198\n",
      "2016-02-16    0.002099\n",
      "2016-02-17    0.002099\n",
      "2016-02-18    0.004198\n",
      "2016-02-19    0.006297\n",
      "2016-02-20    0.004198\n",
      "2016-02-21    0.006297\n",
      "                ...   \n",
      "2016-03-09    3.314094\n",
      "2016-03-10    3.202854\n",
      "2016-03-11    3.301501\n",
      "2016-03-12    3.668801\n",
      "2016-03-13    1.710568\n",
      "2016-03-14    3.517683\n",
      "2016-03-15    3.395949\n",
      "2016-03-16    2.995068\n",
      "2016-03-17    3.120999\n",
      "2016-03-18    1.345367\n",
      "2016-03-19    3.351873\n",
      "2016-03-20    3.788435\n",
      "2016-03-21    3.756952\n",
      "2016-03-22    3.253227\n",
      "2016-03-23    3.221744\n",
      "2016-03-24    2.925805\n",
      "2016-03-25    3.154581\n",
      "2016-03-26    3.225942\n",
      "2016-03-27    3.114702\n",
      "2016-03-28    3.511386\n",
      "2016-03-29    3.395949\n",
      "2016-03-30    3.370763\n",
      "2016-03-31    3.188162\n",
      "2016-04-01    3.379158\n",
      "2016-04-02    3.536573\n",
      "2016-04-03    3.897576\n",
      "2016-04-04    3.691888\n",
      "2016-04-05    1.185854\n",
      "2016-04-06    0.325323\n",
      "2016-04-07    0.121734\n",
      "Name: ad_created_date, Length: 76, dtype: float64\n"
     ]
    }
   ],
   "source": [
    "print('Number of ads created:')\n",
    "print(autos['ad_created_date'].value_counts(dropna=False, normalize=False).sort_index())\n",
    "print('Percent of ads created:')\n",
    "print(autos['ad_created_date'].value_counts(dropna=False, normalize=True).sort_index()*100)"
   ]
  },
  {
   "cell_type": "markdown",
   "metadata": {},
   "source": [
    "To get a more accurate average ads per day, it might be better to only look at a month of data.  The most recent complete month of data was March, 2016."
   ]
  },
  {
   "cell_type": "code",
   "execution_count": 31,
   "metadata": {
    "collapsed": false,
    "scrolled": false
   },
   "outputs": [
    {
     "data": {
      "text/html": [
       "<div>\n",
       "<style scoped>\n",
       "    .dataframe tbody tr th:only-of-type {\n",
       "        vertical-align: middle;\n",
       "    }\n",
       "\n",
       "    .dataframe tbody tr th {\n",
       "        vertical-align: top;\n",
       "    }\n",
       "\n",
       "    .dataframe thead th {\n",
       "        text-align: right;\n",
       "    }\n",
       "</style>\n",
       "<table border=\"1\" class=\"dataframe\">\n",
       "  <thead>\n",
       "    <tr style=\"text-align: right;\">\n",
       "      <th></th>\n",
       "      <th>date_crawled</th>\n",
       "      <th>name</th>\n",
       "      <th>seller</th>\n",
       "      <th>offer_type</th>\n",
       "      <th>price</th>\n",
       "      <th>ab_test</th>\n",
       "      <th>vehicle_type</th>\n",
       "      <th>registration_year</th>\n",
       "      <th>gearbox</th>\n",
       "      <th>hp</th>\n",
       "      <th>...</th>\n",
       "      <th>fuel_type</th>\n",
       "      <th>brand</th>\n",
       "      <th>unrepaired_damage</th>\n",
       "      <th>ad_created</th>\n",
       "      <th>num_of_pictures</th>\n",
       "      <th>postal_code</th>\n",
       "      <th>last_seen</th>\n",
       "      <th>date_crawled_date</th>\n",
       "      <th>ad_created_date</th>\n",
       "      <th>last_seen_date</th>\n",
       "    </tr>\n",
       "  </thead>\n",
       "  <tbody>\n",
       "    <tr>\n",
       "      <th>0</th>\n",
       "      <td>2016-03-26 17:47:46</td>\n",
       "      <td>Peugeot_807_160_NAVTECH_ON_BOARD</td>\n",
       "      <td>privat</td>\n",
       "      <td>Angebot</td>\n",
       "      <td>5000.0</td>\n",
       "      <td>control</td>\n",
       "      <td>bus</td>\n",
       "      <td>2004</td>\n",
       "      <td>manuell</td>\n",
       "      <td>158</td>\n",
       "      <td>...</td>\n",
       "      <td>lpg</td>\n",
       "      <td>peugeot</td>\n",
       "      <td>nein</td>\n",
       "      <td>2016-03-26 00:00:00</td>\n",
       "      <td>0</td>\n",
       "      <td>79588</td>\n",
       "      <td>2016-04-06 06:45:54</td>\n",
       "      <td>2016-03-26</td>\n",
       "      <td>2016-03-26</td>\n",
       "      <td>2016-04-06</td>\n",
       "    </tr>\n",
       "    <tr>\n",
       "      <th>2</th>\n",
       "      <td>2016-03-26 18:57:24</td>\n",
       "      <td>Volkswagen_Golf_1.6_United</td>\n",
       "      <td>privat</td>\n",
       "      <td>Angebot</td>\n",
       "      <td>8990.0</td>\n",
       "      <td>test</td>\n",
       "      <td>limousine</td>\n",
       "      <td>2009</td>\n",
       "      <td>manuell</td>\n",
       "      <td>102</td>\n",
       "      <td>...</td>\n",
       "      <td>benzin</td>\n",
       "      <td>volkswagen</td>\n",
       "      <td>nein</td>\n",
       "      <td>2016-03-26 00:00:00</td>\n",
       "      <td>0</td>\n",
       "      <td>35394</td>\n",
       "      <td>2016-04-06 20:15:37</td>\n",
       "      <td>2016-03-26</td>\n",
       "      <td>2016-03-26</td>\n",
       "      <td>2016-04-06</td>\n",
       "    </tr>\n",
       "    <tr>\n",
       "      <th>3</th>\n",
       "      <td>2016-03-12 16:58:10</td>\n",
       "      <td>Smart_smart_fortwo_coupe_softouch/F1/Klima/Pan...</td>\n",
       "      <td>privat</td>\n",
       "      <td>Angebot</td>\n",
       "      <td>4350.0</td>\n",
       "      <td>control</td>\n",
       "      <td>kleinwagen</td>\n",
       "      <td>2007</td>\n",
       "      <td>automatik</td>\n",
       "      <td>71</td>\n",
       "      <td>...</td>\n",
       "      <td>benzin</td>\n",
       "      <td>smart</td>\n",
       "      <td>nein</td>\n",
       "      <td>2016-03-12 00:00:00</td>\n",
       "      <td>0</td>\n",
       "      <td>33729</td>\n",
       "      <td>2016-03-15 03:16:28</td>\n",
       "      <td>2016-03-12</td>\n",
       "      <td>2016-03-12</td>\n",
       "      <td>2016-03-15</td>\n",
       "    </tr>\n",
       "  </tbody>\n",
       "</table>\n",
       "<p>3 rows × 23 columns</p>\n",
       "</div>"
      ],
      "text/plain": [
       "          date_crawled                                               name  \\\n",
       "0  2016-03-26 17:47:46                   Peugeot_807_160_NAVTECH_ON_BOARD   \n",
       "2  2016-03-26 18:57:24                         Volkswagen_Golf_1.6_United   \n",
       "3  2016-03-12 16:58:10  Smart_smart_fortwo_coupe_softouch/F1/Klima/Pan...   \n",
       "\n",
       "   seller offer_type   price  ab_test vehicle_type  registration_year  \\\n",
       "0  privat    Angebot  5000.0  control          bus               2004   \n",
       "2  privat    Angebot  8990.0     test    limousine               2009   \n",
       "3  privat    Angebot  4350.0  control   kleinwagen               2007   \n",
       "\n",
       "     gearbox   hp      ...       fuel_type       brand  unrepaired_damage  \\\n",
       "0    manuell  158      ...             lpg     peugeot               nein   \n",
       "2    manuell  102      ...          benzin  volkswagen               nein   \n",
       "3  automatik   71      ...          benzin       smart               nein   \n",
       "\n",
       "            ad_created num_of_pictures postal_code            last_seen  \\\n",
       "0  2016-03-26 00:00:00               0       79588  2016-04-06 06:45:54   \n",
       "2  2016-03-26 00:00:00               0       35394  2016-04-06 20:15:37   \n",
       "3  2016-03-12 00:00:00               0       33729  2016-03-15 03:16:28   \n",
       "\n",
       "   date_crawled_date  ad_created_date last_seen_date  \n",
       "0         2016-03-26       2016-03-26     2016-04-06  \n",
       "2         2016-03-26       2016-03-26     2016-04-06  \n",
       "3         2016-03-12       2016-03-12     2016-03-15  \n",
       "\n",
       "[3 rows x 23 columns]"
      ]
     },
     "execution_count": 31,
     "metadata": {},
     "output_type": "execute_result"
    }
   ],
   "source": [
    "march_2016_ads = autos.loc[autos['ad_created_date'].str[0:7] =='2016-03', :]\n",
    "march_2016_ads.head(3)"
   ]
  },
  {
   "cell_type": "code",
   "execution_count": 32,
   "metadata": {
    "collapsed": false
   },
   "outputs": [
    {
     "name": "stdout",
     "output_type": "stream",
     "text": [
      "Days: 31\n",
      "Start: 2016-03-01\n",
      "Finish: 2016-03-31\n"
     ]
    }
   ],
   "source": [
    "print('Days:', march_2016_ads['ad_created_date'].unique().shape[0])\n",
    "print('Start:', march_2016_ads['ad_created_date'].min())\n",
    "print('Finish:', march_2016_ads['ad_created_date'].max())"
   ]
  },
  {
   "cell_type": "code",
   "execution_count": 33,
   "metadata": {
    "collapsed": false
   },
   "outputs": [
    {
     "name": "stdout",
     "output_type": "stream",
     "text": [
      "Max ads: 1805\n",
      "Min ads: 5\n",
      "Avg ads: 1286.3548387096773\n"
     ]
    }
   ],
   "source": [
    "print('Max ads:', march_2016_ads['ad_created_date'].value_counts(dropna=False).max())\n",
    "print('Min ads:', march_2016_ads['ad_created_date'].value_counts(dropna=False).min())\n",
    "print('Avg ads:', march_2016_ads['ad_created_date'].value_counts(dropna=False).mean())"
   ]
  },
  {
   "cell_type": "markdown",
   "metadata": {},
   "source": [
    "On average, 1,286 ads were created each day.  This seems much more accurate.\n",
    "\n",
    "We also notice that 3/1/2016 through 3/4/2016 had a signficant decrease in ads.  This is approximately 1 month form the crawl date, and might indicate that ads expire approximately 1 month from initial posting."
   ]
  },
  {
   "cell_type": "code",
   "execution_count": 34,
   "metadata": {
    "collapsed": false,
    "scrolled": false
   },
   "outputs": [
    {
     "name": "stdout",
     "output_type": "stream",
     "text": [
      "Number of ads created:\n",
      "2016-03-01       5\n",
      "2016-03-02       5\n",
      "2016-03-03      40\n",
      "2016-03-04      71\n",
      "2016-03-05    1093\n",
      "2016-03-06     730\n",
      "2016-03-07    1654\n",
      "2016-03-08    1578\n",
      "2016-03-09    1579\n",
      "2016-03-10    1526\n",
      "2016-03-11    1573\n",
      "2016-03-12    1748\n",
      "2016-03-13     815\n",
      "2016-03-14    1676\n",
      "2016-03-15    1618\n",
      "2016-03-16    1427\n",
      "2016-03-17    1487\n",
      "2016-03-18     641\n",
      "2016-03-19    1597\n",
      "2016-03-20    1805\n",
      "2016-03-21    1790\n",
      "2016-03-22    1550\n",
      "2016-03-23    1535\n",
      "2016-03-24    1394\n",
      "2016-03-25    1503\n",
      "2016-03-26    1537\n",
      "2016-03-27    1484\n",
      "2016-03-28    1673\n",
      "2016-03-29    1618\n",
      "2016-03-30    1606\n",
      "2016-03-31    1519\n",
      "Name: ad_created_date, dtype: int64\n",
      "Percent of ads created:\n",
      "2016-03-01    0.012539\n",
      "2016-03-02    0.012539\n",
      "2016-03-03    0.100308\n",
      "2016-03-04    0.178047\n",
      "2016-03-05    2.740928\n",
      "2016-03-06    1.830629\n",
      "2016-03-07    4.147754\n",
      "2016-03-08    3.957168\n",
      "2016-03-09    3.959676\n",
      "2016-03-10    3.826767\n",
      "2016-03-11    3.944630\n",
      "2016-03-12    4.383479\n",
      "2016-03-13    2.043785\n",
      "2016-03-14    4.202924\n",
      "2016-03-15    4.057477\n",
      "2016-03-16    3.578504\n",
      "2016-03-17    3.728967\n",
      "2016-03-18    1.607443\n",
      "2016-03-19    4.004815\n",
      "2016-03-20    4.526419\n",
      "2016-03-21    4.488803\n",
      "2016-03-22    3.886952\n",
      "2016-03-23    3.849337\n",
      "2016-03-24    3.495749\n",
      "2016-03-25    3.769090\n",
      "2016-03-26    3.854352\n",
      "2016-03-27    3.721443\n",
      "2016-03-28    4.195401\n",
      "2016-03-29    4.057477\n",
      "2016-03-30    4.027384\n",
      "2016-03-31    3.809213\n",
      "Name: ad_created_date, dtype: float64\n"
     ]
    }
   ],
   "source": [
    "print('Number of ads created:')\n",
    "print(march_2016_ads['ad_created_date'].value_counts(dropna=False, normalize=False).sort_index())\n",
    "print('Percent of ads created:')\n",
    "print(march_2016_ads['ad_created_date'].value_counts(dropna=False, normalize=True).sort_index()*100)"
   ]
  },
  {
   "cell_type": "markdown",
   "metadata": {},
   "source": [
    "### Registration Year\n",
    "Vehicle registration year has data ranging from 1000 to 9999."
   ]
  },
  {
   "cell_type": "code",
   "execution_count": 35,
   "metadata": {
    "collapsed": false,
    "scrolled": true
   },
   "outputs": [
    {
     "data": {
      "text/plain": [
       "count    47645.000000\n",
       "mean      2004.800084\n",
       "std         88.423872\n",
       "min       1000.000000\n",
       "25%       1999.000000\n",
       "50%       2004.000000\n",
       "75%       2008.000000\n",
       "max       9999.000000\n",
       "Name: registration_year, dtype: float64"
      ]
     },
     "execution_count": 35,
     "metadata": {},
     "output_type": "execute_result"
    }
   ],
   "source": [
    "autos['registration_year'].describe()"
   ]
  },
  {
   "cell_type": "code",
   "execution_count": 36,
   "metadata": {
    "collapsed": false
   },
   "outputs": [
    {
     "data": {
      "text/plain": [
       "1000    1\n",
       "1001    1\n",
       "1111    1\n",
       "1800    2\n",
       "1910    2\n",
       "Name: registration_year, dtype: int64"
      ]
     },
     "execution_count": 36,
     "metadata": {},
     "output_type": "execute_result"
    }
   ],
   "source": [
    "autos['registration_year'].value_counts().sort_index().head(5)"
   ]
  },
  {
   "cell_type": "code",
   "execution_count": 37,
   "metadata": {
    "collapsed": false
   },
   "outputs": [
    {
     "data": {
      "text/plain": [
       "2018    468\n",
       "2019      1\n",
       "2800      1\n",
       "4100      1\n",
       "4500      1\n",
       "4800      1\n",
       "5000      3\n",
       "5911      1\n",
       "6200      1\n",
       "8888      1\n",
       "9000      1\n",
       "9999      3\n",
       "Name: registration_year, dtype: int64"
      ]
     },
     "execution_count": 37,
     "metadata": {},
     "output_type": "execute_result"
    }
   ],
   "source": [
    "autos['registration_year'].value_counts().sort_index().tail(12)"
   ]
  },
  {
   "cell_type": "markdown",
   "metadata": {},
   "source": [
    "Since the data was collected in 2016, and the auto industry tends to release vehicles in the previous calendar year, vehicles will be considered valid with a year less than or equal to 2017 resulting in a loss of 488 data points.\n",
    "\n",
    "Classic vehicles are commonly sold on eBay, so it is possible for older vehicle years to be valid.  All dates after 1900 will be considered valid resulting in a loss of 5 data points."
   ]
  },
  {
   "cell_type": "code",
   "execution_count": 38,
   "metadata": {
    "collapsed": false
   },
   "outputs": [
    {
     "name": "stdout",
     "output_type": "stream",
     "text": [
      "Size before removal: 47645\n",
      "Size after removal: 47157\n"
     ]
    }
   ],
   "source": [
    "print('Size before removal:', autos.shape[0])\n",
    "autos = autos.loc[autos['registration_year'] >= 1900, :]\n",
    "autos = autos.loc[autos['registration_year'] <= 2017, :]\n",
    "print('Size after removal:', autos.shape[0])"
   ]
  },
  {
   "cell_type": "code",
   "execution_count": 39,
   "metadata": {
    "collapsed": false
   },
   "outputs": [
    {
     "name": "stdout",
     "output_type": "stream",
     "text": [
      "Max ads by registration year: 3019\n",
      "Min ads by registration year: 1\n",
      "Avg ads by registration year: 596.9240506329114\n"
     ]
    }
   ],
   "source": [
    "print('Max ads by registration year:', autos['registration_year'].value_counts(dropna=False).max())\n",
    "print('Min ads by registration year:', autos['registration_year'].value_counts(dropna=False).min())\n",
    "print('Avg ads by registration year:', autos['registration_year'].value_counts(dropna=False).mean())"
   ]
  },
  {
   "cell_type": "markdown",
   "metadata": {},
   "source": [
    "#### Results\n",
    "Cars listed on eBay were relatively old vehicles (5 to 10 years old) and the classic or collectors car market is likely to be a very small portion of listings.\n",
    "\n",
    "From the results below we can see the following:\n",
    "\n",
    "1) 10% of cars were 2012 or newer (about 5 years old at the time)\n",
    "2) 50% of cars listed were 2004 or older (over 10 years old)\n",
    "3) 1% of cars were 1979 or older indicating a small classic car market"
   ]
  },
  {
   "cell_type": "code",
   "execution_count": 40,
   "metadata": {
    "collapsed": false,
    "scrolled": true
   },
   "outputs": [
    {
     "data": {
      "text/plain": [
       "count    47157.000000\n",
       "mean      2003.400322\n",
       "std          7.393552\n",
       "min       1910.000000\n",
       "1%        1979.000000\n",
       "5%        1993.000000\n",
       "50%       2004.000000\n",
       "75%       2008.000000\n",
       "90%       2012.000000\n",
       "95%       2016.000000\n",
       "max       2017.000000\n",
       "Name: registration_year, dtype: float64"
      ]
     },
     "execution_count": 40,
     "metadata": {},
     "output_type": "execute_result"
    }
   ],
   "source": [
    "autos['registration_year'].describe(percentiles=[.01, .05, .50, .75, .90, .95])"
   ]
  },
  {
   "cell_type": "markdown",
   "metadata": {},
   "source": [
    "### Registration Month\n",
    "registration_month ranges from 0 to 12.  Valid values should be 1 (January) to 12 (December)."
   ]
  },
  {
   "cell_type": "code",
   "execution_count": 41,
   "metadata": {
    "collapsed": false,
    "scrolled": true
   },
   "outputs": [
    {
     "data": {
      "text/plain": [
       "count    47157.000000\n",
       "mean         5.834531\n",
       "std          3.662464\n",
       "min          0.000000\n",
       "25%          3.000000\n",
       "50%          6.000000\n",
       "75%          9.000000\n",
       "max         12.000000\n",
       "Name: registration_month, dtype: float64"
      ]
     },
     "execution_count": 41,
     "metadata": {},
     "output_type": "execute_result"
    }
   ],
   "source": [
    "autos['registration_month'].describe()"
   ]
  },
  {
   "cell_type": "markdown",
   "metadata": {},
   "source": [
    "There are about 4,000 data points with 0 registration_month.  Since we don't know the month of registration, we will set it to \"Unknown\"."
   ]
  },
  {
   "cell_type": "code",
   "execution_count": 42,
   "metadata": {
    "collapsed": false,
    "scrolled": true
   },
   "outputs": [
    {
     "data": {
      "text/plain": [
       "3     4897\n",
       "6     4177\n",
       "0     4000\n",
       "5     3953\n",
       "4     3941\n",
       "7     3785\n",
       "10    3528\n",
       "12    3297\n",
       "9     3258\n",
       "11    3255\n",
       "1     3125\n",
       "8     3064\n",
       "2     2877\n",
       "Name: registration_month, dtype: int64"
      ]
     },
     "execution_count": 42,
     "metadata": {},
     "output_type": "execute_result"
    }
   ],
   "source": [
    "autos['registration_month'].value_counts()"
   ]
  },
  {
   "cell_type": "code",
   "execution_count": 43,
   "metadata": {
    "collapsed": false
   },
   "outputs": [
    {
     "data": {
      "text/plain": [
       "3          4897\n",
       "6          4177\n",
       "Unknown    4000\n",
       "5          3953\n",
       "4          3941\n",
       "7          3785\n",
       "10         3528\n",
       "12         3297\n",
       "9          3258\n",
       "11         3255\n",
       "1          3125\n",
       "8          3064\n",
       "2          2877\n",
       "Name: registration_month, dtype: int64"
      ]
     },
     "execution_count": 43,
     "metadata": {},
     "output_type": "execute_result"
    }
   ],
   "source": [
    "autos.loc[autos['registration_month']==0,'registration_month'] = \"Unknown\"\n",
    "autos['registration_month'].value_counts()"
   ]
  },
  {
   "cell_type": "markdown",
   "metadata": {},
   "source": [
    "## Brand Analysis\n",
    "There are 40 unique brands represented in the data."
   ]
  },
  {
   "cell_type": "code",
   "execution_count": 44,
   "metadata": {
    "collapsed": false
   },
   "outputs": [
    {
     "name": "stdout",
     "output_type": "stream",
     "text": [
      "Unique brands: 40\n"
     ]
    }
   ],
   "source": [
    "brands = autos['brand'].unique()\n",
    "print('Unique brands:', len(brands))"
   ]
  },
  {
   "cell_type": "markdown",
   "metadata": {},
   "source": [
    "The top 10 brands are shown below.  The top 5 brands, all German companies, represent a very large portion of the market.  We will focus on these 5 brands for the detailed anlaysis."
   ]
  },
  {
   "cell_type": "code",
   "execution_count": 45,
   "metadata": {
    "collapsed": false
   },
   "outputs": [
    {
     "data": {
      "text/plain": [
       "volkswagen       21.258774\n",
       "bmw              11.001548\n",
       "opel             10.670738\n",
       "mercedes_benz     9.703756\n",
       "audi              8.709205\n",
       "ford              6.864304\n",
       "renault           4.711920\n",
       "peugeot           2.968806\n",
       "fiat              2.531968\n",
       "seat              1.853383\n",
       "Name: brand, dtype: float64"
      ]
     },
     "execution_count": 45,
     "metadata": {},
     "output_type": "execute_result"
    }
   ],
   "source": [
    "(autos['brand'].value_counts(normalize=True) * 100).head(10)"
   ]
  },
  {
   "cell_type": "markdown",
   "metadata": {},
   "source": [
    "Volkswagen, BMW, Opel, Mercedes Benz and Audi have a combined market share of over 61%.\n"
   ]
  },
  {
   "cell_type": "code",
   "execution_count": 46,
   "metadata": {
    "collapsed": false
   },
   "outputs": [
    {
     "data": {
      "text/plain": [
       "61.34402103611341"
      ]
     },
     "execution_count": 46,
     "metadata": {},
     "output_type": "execute_result"
    }
   ],
   "source": [
    "(autos['brand'].value_counts(normalize=True) * 100).head(5).sum()"
   ]
  },
  {
   "cell_type": "markdown",
   "metadata": {},
   "source": [
    "#### Average Price"
   ]
  },
  {
   "cell_type": "code",
   "execution_count": 47,
   "metadata": {
    "collapsed": false
   },
   "outputs": [
    {
     "name": "stdout",
     "output_type": "stream",
     "text": [
      "Top 5 Expensive Brands:\n",
      "Porsche $46,788.44\n",
      "Land_Rover $18,934.27\n",
      "Sonstige_Autos $12,868.23\n",
      "Jaguar $12,129.6\n",
      "\n",
      "Top 5 Cheapest Brands:\n",
      "Daewoo $1,119.45\n",
      "Rover $1,609.72\n",
      "Daihatsu $1,650.58\n",
      "Trabant $1,953.3\n",
      "Renault $2,516.23\n"
     ]
    }
   ],
   "source": [
    "avg_price = []\n",
    "avg_price_dic = {}\n",
    "for brand in brands:\n",
    "    avg_price.append((round(autos.loc[autos['brand']==brand, 'price'].mean(), 2), brand))\n",
    "    avg_price_dic[brand] = round(autos.loc[autos['brand']==brand, 'price'].mean(), 2)\n",
    "avg_price.sort()\n",
    "\n",
    "print(\"Top 5 Expensive Brands:\")\n",
    "for i in range(-1,-5,-1):\n",
    "    print(avg_price[i][1].title(), '${:,}'.format(avg_price[i][0]))\n",
    "\n",
    "print(\"\\nTop 5 Cheapest Brands:\")\n",
    "for i in range(0,5):\n",
    "    print(avg_price[i][1].title(), '${:,}'.format(avg_price[i][0]))\n",
    "\n"
   ]
  },
  {
   "cell_type": "markdown",
   "metadata": {},
   "source": [
    "#### Average Milage"
   ]
  },
  {
   "cell_type": "code",
   "execution_count": 48,
   "metadata": {
    "collapsed": false
   },
   "outputs": [
    {
     "name": "stdout",
     "output_type": "stream",
     "text": [
      "Top 5 Highest Milage Brands:\n",
      "Saab 144,415.58km\n",
      "Volvo 138,735.5km\n",
      "Rover 138,046.88km\n",
      "Chrysler 133,125.0km\n",
      "\n",
      "Top 5 Lowest Milage Brands:\n",
      "Trabant 55,245.9km\n",
      "Lada 83,518.52km\n",
      "Dacia 84,218.75km\n",
      "Mini 89,302.88km\n",
      "Sonstige_Autos 90,995.48km\n"
     ]
    }
   ],
   "source": [
    "avg_milage = []\n",
    "avg_milage_dic = {}\n",
    "for brand in brands:\n",
    "    avg_milage.append((round(autos.loc[autos['brand']==brand, 'odometer_km'].mean(), 2), brand))\n",
    "    avg_milage_dic[brand] = round(autos.loc[autos['brand']==brand, 'odometer_km'].mean(), 2)\n",
    "avg_milage.sort()\n",
    "\n",
    "print(\"Top 5 Highest Milage Brands:\")\n",
    "for i in range(-1,-5,-1):\n",
    "    print(avg_milage[i][1].title(), '{:,}km'.format(avg_milage[i][0]))\n",
    "\n",
    "print(\"\\nTop 5 Lowest Milage Brands:\")\n",
    "for i in range(0,5):\n",
    "    print(avg_milage[i][1].title(), '{:,}km'.format(avg_milage[i][0]))"
   ]
  },
  {
   "cell_type": "markdown",
   "metadata": {},
   "source": [
    "#### Value Index\n",
    "Below we create a value index to attempt to capture brand value.  As the average sales price increases, the brand value proportionally increases.  As the milage increases, similarly the brand value increases.  This is because a brand that can sell at higher average price with higher miles is looked at as having more value."
   ]
  },
  {
   "cell_type": "code",
   "execution_count": 49,
   "metadata": {
    "collapsed": false
   },
   "outputs": [
    {
     "data": {
      "text/html": [
       "<div>\n",
       "<style scoped>\n",
       "    .dataframe tbody tr th:only-of-type {\n",
       "        vertical-align: middle;\n",
       "    }\n",
       "\n",
       "    .dataframe tbody tr th {\n",
       "        vertical-align: top;\n",
       "    }\n",
       "\n",
       "    .dataframe thead th {\n",
       "        text-align: right;\n",
       "    }\n",
       "</style>\n",
       "<table border=\"1\" class=\"dataframe\">\n",
       "  <thead>\n",
       "    <tr style=\"text-align: right;\">\n",
       "      <th></th>\n",
       "      <th>mean_price</th>\n",
       "      <th>odometer_km</th>\n",
       "      <th>value_index</th>\n",
       "    </tr>\n",
       "  </thead>\n",
       "  <tbody>\n",
       "    <tr>\n",
       "      <th>alfa_romeo</th>\n",
       "      <td>4104.55</td>\n",
       "      <td>131603.17</td>\n",
       "      <td>54.017179</td>\n",
       "    </tr>\n",
       "    <tr>\n",
       "      <th>audi</th>\n",
       "      <td>9310.89</td>\n",
       "      <td>129534.94</td>\n",
       "      <td>120.608558</td>\n",
       "    </tr>\n",
       "    <tr>\n",
       "      <th>bmw</th>\n",
       "      <td>8352.23</td>\n",
       "      <td>132883.58</td>\n",
       "      <td>110.987422</td>\n",
       "    </tr>\n",
       "    <tr>\n",
       "      <th>chevrolet</th>\n",
       "      <td>6787.42</td>\n",
       "      <td>100355.81</td>\n",
       "      <td>68.115703</td>\n",
       "    </tr>\n",
       "    <tr>\n",
       "      <th>chrysler</th>\n",
       "      <td>3539.92</td>\n",
       "      <td>133125.00</td>\n",
       "      <td>47.125185</td>\n",
       "    </tr>\n",
       "    <tr>\n",
       "      <th>citroen</th>\n",
       "      <td>3796.90</td>\n",
       "      <td>120141.79</td>\n",
       "      <td>45.616636</td>\n",
       "    </tr>\n",
       "    <tr>\n",
       "      <th>dacia</th>\n",
       "      <td>5920.38</td>\n",
       "      <td>84218.75</td>\n",
       "      <td>49.860700</td>\n",
       "    </tr>\n",
       "    <tr>\n",
       "      <th>daewoo</th>\n",
       "      <td>1119.45</td>\n",
       "      <td>120479.45</td>\n",
       "      <td>13.487072</td>\n",
       "    </tr>\n",
       "    <tr>\n",
       "      <th>daihatsu</th>\n",
       "      <td>1650.58</td>\n",
       "      <td>116196.58</td>\n",
       "      <td>19.179175</td>\n",
       "    </tr>\n",
       "    <tr>\n",
       "      <th>fiat</th>\n",
       "      <td>2898.15</td>\n",
       "      <td>117211.06</td>\n",
       "      <td>33.969523</td>\n",
       "    </tr>\n",
       "    <tr>\n",
       "      <th>ford</th>\n",
       "      <td>3866.15</td>\n",
       "      <td>124079.39</td>\n",
       "      <td>47.970953</td>\n",
       "    </tr>\n",
       "    <tr>\n",
       "      <th>honda</th>\n",
       "      <td>4073.62</td>\n",
       "      <td>123236.07</td>\n",
       "      <td>50.201692</td>\n",
       "    </tr>\n",
       "    <tr>\n",
       "      <th>hyundai</th>\n",
       "      <td>5425.08</td>\n",
       "      <td>107004.22</td>\n",
       "      <td>58.050645</td>\n",
       "    </tr>\n",
       "    <tr>\n",
       "      <th>jaguar</th>\n",
       "      <td>12129.60</td>\n",
       "      <td>125428.57</td>\n",
       "      <td>152.139838</td>\n",
       "    </tr>\n",
       "    <tr>\n",
       "      <th>jeep</th>\n",
       "      <td>11590.21</td>\n",
       "      <td>127102.80</td>\n",
       "      <td>147.314814</td>\n",
       "    </tr>\n",
       "    <tr>\n",
       "      <th>kia</th>\n",
       "      <td>5959.99</td>\n",
       "      <td>112492.63</td>\n",
       "      <td>67.045495</td>\n",
       "    </tr>\n",
       "    <tr>\n",
       "      <th>lada</th>\n",
       "      <td>2688.30</td>\n",
       "      <td>83518.52</td>\n",
       "      <td>22.452284</td>\n",
       "    </tr>\n",
       "    <tr>\n",
       "      <th>lancia</th>\n",
       "      <td>3288.54</td>\n",
       "      <td>122980.77</td>\n",
       "      <td>40.442718</td>\n",
       "    </tr>\n",
       "    <tr>\n",
       "      <th>land_rover</th>\n",
       "      <td>18934.27</td>\n",
       "      <td>118333.33</td>\n",
       "      <td>224.055522</td>\n",
       "    </tr>\n",
       "    <tr>\n",
       "      <th>mazda</th>\n",
       "      <td>4154.11</td>\n",
       "      <td>124295.68</td>\n",
       "      <td>51.633793</td>\n",
       "    </tr>\n",
       "    <tr>\n",
       "      <th>mercedes_benz</th>\n",
       "      <td>8591.21</td>\n",
       "      <td>131260.93</td>\n",
       "      <td>112.769021</td>\n",
       "    </tr>\n",
       "    <tr>\n",
       "      <th>mini</th>\n",
       "      <td>10591.99</td>\n",
       "      <td>89302.88</td>\n",
       "      <td>94.589521</td>\n",
       "    </tr>\n",
       "    <tr>\n",
       "      <th>mitsubishi</th>\n",
       "      <td>3465.91</td>\n",
       "      <td>126897.91</td>\n",
       "      <td>43.981674</td>\n",
       "    </tr>\n",
       "    <tr>\n",
       "      <th>nissan</th>\n",
       "      <td>4752.09</td>\n",
       "      <td>118540.80</td>\n",
       "      <td>56.331655</td>\n",
       "    </tr>\n",
       "    <tr>\n",
       "      <th>opel</th>\n",
       "      <td>3053.08</td>\n",
       "      <td>129333.27</td>\n",
       "      <td>39.486482</td>\n",
       "    </tr>\n",
       "    <tr>\n",
       "      <th>peugeot</th>\n",
       "      <td>3118.22</td>\n",
       "      <td>127082.14</td>\n",
       "      <td>39.627007</td>\n",
       "    </tr>\n",
       "    <tr>\n",
       "      <th>porsche</th>\n",
       "      <td>46788.44</td>\n",
       "      <td>98476.70</td>\n",
       "      <td>460.757117</td>\n",
       "    </tr>\n",
       "    <tr>\n",
       "      <th>renault</th>\n",
       "      <td>2516.23</td>\n",
       "      <td>128078.31</td>\n",
       "      <td>32.227449</td>\n",
       "    </tr>\n",
       "    <tr>\n",
       "      <th>rover</th>\n",
       "      <td>1609.72</td>\n",
       "      <td>138046.88</td>\n",
       "      <td>22.221682</td>\n",
       "    </tr>\n",
       "    <tr>\n",
       "      <th>saab</th>\n",
       "      <td>3231.78</td>\n",
       "      <td>144415.58</td>\n",
       "      <td>46.671938</td>\n",
       "    </tr>\n",
       "    <tr>\n",
       "      <th>seat</th>\n",
       "      <td>4456.74</td>\n",
       "      <td>122088.10</td>\n",
       "      <td>54.411492</td>\n",
       "    </tr>\n",
       "    <tr>\n",
       "      <th>skoda</th>\n",
       "      <td>6422.78</td>\n",
       "      <td>111134.29</td>\n",
       "      <td>71.379110</td>\n",
       "    </tr>\n",
       "    <tr>\n",
       "      <th>smart</th>\n",
       "      <td>3550.31</td>\n",
       "      <td>100562.87</td>\n",
       "      <td>35.702936</td>\n",
       "    </tr>\n",
       "    <tr>\n",
       "      <th>sonstige_autos</th>\n",
       "      <td>12868.23</td>\n",
       "      <td>90995.48</td>\n",
       "      <td>117.095077</td>\n",
       "    </tr>\n",
       "    <tr>\n",
       "      <th>subaru</th>\n",
       "      <td>4080.49</td>\n",
       "      <td>126185.57</td>\n",
       "      <td>51.489896</td>\n",
       "    </tr>\n",
       "    <tr>\n",
       "      <th>suzuki</th>\n",
       "      <td>4291.49</td>\n",
       "      <td>107730.63</td>\n",
       "      <td>46.232492</td>\n",
       "    </tr>\n",
       "    <tr>\n",
       "      <th>toyota</th>\n",
       "      <td>5160.16</td>\n",
       "      <td>116496.71</td>\n",
       "      <td>60.114166</td>\n",
       "    </tr>\n",
       "    <tr>\n",
       "      <th>trabant</th>\n",
       "      <td>1953.30</td>\n",
       "      <td>55245.90</td>\n",
       "      <td>10.791182</td>\n",
       "    </tr>\n",
       "    <tr>\n",
       "      <th>volkswagen</th>\n",
       "      <td>5453.41</td>\n",
       "      <td>128987.03</td>\n",
       "      <td>70.341916</td>\n",
       "    </tr>\n",
       "    <tr>\n",
       "      <th>volvo</th>\n",
       "      <td>4939.69</td>\n",
       "      <td>138735.50</td>\n",
       "      <td>68.531036</td>\n",
       "    </tr>\n",
       "  </tbody>\n",
       "</table>\n",
       "</div>"
      ],
      "text/plain": [
       "                mean_price  odometer_km  value_index\n",
       "alfa_romeo         4104.55    131603.17    54.017179\n",
       "audi               9310.89    129534.94   120.608558\n",
       "bmw                8352.23    132883.58   110.987422\n",
       "chevrolet          6787.42    100355.81    68.115703\n",
       "chrysler           3539.92    133125.00    47.125185\n",
       "citroen            3796.90    120141.79    45.616636\n",
       "dacia              5920.38     84218.75    49.860700\n",
       "daewoo             1119.45    120479.45    13.487072\n",
       "daihatsu           1650.58    116196.58    19.179175\n",
       "fiat               2898.15    117211.06    33.969523\n",
       "ford               3866.15    124079.39    47.970953\n",
       "honda              4073.62    123236.07    50.201692\n",
       "hyundai            5425.08    107004.22    58.050645\n",
       "jaguar            12129.60    125428.57   152.139838\n",
       "jeep              11590.21    127102.80   147.314814\n",
       "kia                5959.99    112492.63    67.045495\n",
       "lada               2688.30     83518.52    22.452284\n",
       "lancia             3288.54    122980.77    40.442718\n",
       "land_rover        18934.27    118333.33   224.055522\n",
       "mazda              4154.11    124295.68    51.633793\n",
       "mercedes_benz      8591.21    131260.93   112.769021\n",
       "mini              10591.99     89302.88    94.589521\n",
       "mitsubishi         3465.91    126897.91    43.981674\n",
       "nissan             4752.09    118540.80    56.331655\n",
       "opel               3053.08    129333.27    39.486482\n",
       "peugeot            3118.22    127082.14    39.627007\n",
       "porsche           46788.44     98476.70   460.757117\n",
       "renault            2516.23    128078.31    32.227449\n",
       "rover              1609.72    138046.88    22.221682\n",
       "saab               3231.78    144415.58    46.671938\n",
       "seat               4456.74    122088.10    54.411492\n",
       "skoda              6422.78    111134.29    71.379110\n",
       "smart              3550.31    100562.87    35.702936\n",
       "sonstige_autos    12868.23     90995.48   117.095077\n",
       "subaru             4080.49    126185.57    51.489896\n",
       "suzuki             4291.49    107730.63    46.232492\n",
       "toyota             5160.16    116496.71    60.114166\n",
       "trabant            1953.30     55245.90    10.791182\n",
       "volkswagen         5453.41    128987.03    70.341916\n",
       "volvo              4939.69    138735.50    68.531036"
      ]
     },
     "execution_count": 49,
     "metadata": {},
     "output_type": "execute_result"
    }
   ],
   "source": [
    "avg_price_series = pd.Series(avg_price_dic)\n",
    "avg_milage_series = pd.Series(avg_milage_dic)\n",
    "\n",
    "price_milage = pd.DataFrame(avg_price_series, columns=['mean_price'])\n",
    "price_milage['odometer_km'] = avg_milage_series\n",
    "price_milage['value_index'] = avg_price_series * avg_milage_series / 10000000\n",
    "\n",
    "price_milage"
   ]
  },
  {
   "cell_type": "markdown",
   "metadata": {},
   "source": [
    "#### Top 5 Value Index Cars"
   ]
  },
  {
   "cell_type": "code",
   "execution_count": 50,
   "metadata": {
    "collapsed": false,
    "scrolled": false
   },
   "outputs": [
    {
     "data": {
      "text/html": [
       "<div>\n",
       "<style scoped>\n",
       "    .dataframe tbody tr th:only-of-type {\n",
       "        vertical-align: middle;\n",
       "    }\n",
       "\n",
       "    .dataframe tbody tr th {\n",
       "        vertical-align: top;\n",
       "    }\n",
       "\n",
       "    .dataframe thead th {\n",
       "        text-align: right;\n",
       "    }\n",
       "</style>\n",
       "<table border=\"1\" class=\"dataframe\">\n",
       "  <thead>\n",
       "    <tr style=\"text-align: right;\">\n",
       "      <th></th>\n",
       "      <th>mean_price</th>\n",
       "      <th>odometer_km</th>\n",
       "      <th>value_index</th>\n",
       "    </tr>\n",
       "  </thead>\n",
       "  <tbody>\n",
       "    <tr>\n",
       "      <th>porsche</th>\n",
       "      <td>46788.44</td>\n",
       "      <td>98476.70</td>\n",
       "      <td>460.757117</td>\n",
       "    </tr>\n",
       "    <tr>\n",
       "      <th>land_rover</th>\n",
       "      <td>18934.27</td>\n",
       "      <td>118333.33</td>\n",
       "      <td>224.055522</td>\n",
       "    </tr>\n",
       "    <tr>\n",
       "      <th>jaguar</th>\n",
       "      <td>12129.60</td>\n",
       "      <td>125428.57</td>\n",
       "      <td>152.139838</td>\n",
       "    </tr>\n",
       "    <tr>\n",
       "      <th>jeep</th>\n",
       "      <td>11590.21</td>\n",
       "      <td>127102.80</td>\n",
       "      <td>147.314814</td>\n",
       "    </tr>\n",
       "    <tr>\n",
       "      <th>audi</th>\n",
       "      <td>9310.89</td>\n",
       "      <td>129534.94</td>\n",
       "      <td>120.608558</td>\n",
       "    </tr>\n",
       "  </tbody>\n",
       "</table>\n",
       "</div>"
      ],
      "text/plain": [
       "            mean_price  odometer_km  value_index\n",
       "porsche       46788.44     98476.70   460.757117\n",
       "land_rover    18934.27    118333.33   224.055522\n",
       "jaguar        12129.60    125428.57   152.139838\n",
       "jeep          11590.21    127102.80   147.314814\n",
       "audi           9310.89    129534.94   120.608558"
      ]
     },
     "execution_count": 50,
     "metadata": {},
     "output_type": "execute_result"
    }
   ],
   "source": [
    "price_milage.sort_values(by='value_index', ascending=False).head(5)"
   ]
  },
  {
   "cell_type": "markdown",
   "metadata": {},
   "source": [
    "#### Bottom 5 Value Index Cars"
   ]
  },
  {
   "cell_type": "code",
   "execution_count": 51,
   "metadata": {
    "collapsed": false,
    "scrolled": true
   },
   "outputs": [
    {
     "data": {
      "text/html": [
       "<div>\n",
       "<style scoped>\n",
       "    .dataframe tbody tr th:only-of-type {\n",
       "        vertical-align: middle;\n",
       "    }\n",
       "\n",
       "    .dataframe tbody tr th {\n",
       "        vertical-align: top;\n",
       "    }\n",
       "\n",
       "    .dataframe thead th {\n",
       "        text-align: right;\n",
       "    }\n",
       "</style>\n",
       "<table border=\"1\" class=\"dataframe\">\n",
       "  <thead>\n",
       "    <tr style=\"text-align: right;\">\n",
       "      <th></th>\n",
       "      <th>mean_price</th>\n",
       "      <th>odometer_km</th>\n",
       "      <th>value_index</th>\n",
       "    </tr>\n",
       "  </thead>\n",
       "  <tbody>\n",
       "    <tr>\n",
       "      <th>trabant</th>\n",
       "      <td>1953.30</td>\n",
       "      <td>55245.90</td>\n",
       "      <td>10.791182</td>\n",
       "    </tr>\n",
       "    <tr>\n",
       "      <th>daewoo</th>\n",
       "      <td>1119.45</td>\n",
       "      <td>120479.45</td>\n",
       "      <td>13.487072</td>\n",
       "    </tr>\n",
       "    <tr>\n",
       "      <th>daihatsu</th>\n",
       "      <td>1650.58</td>\n",
       "      <td>116196.58</td>\n",
       "      <td>19.179175</td>\n",
       "    </tr>\n",
       "    <tr>\n",
       "      <th>rover</th>\n",
       "      <td>1609.72</td>\n",
       "      <td>138046.88</td>\n",
       "      <td>22.221682</td>\n",
       "    </tr>\n",
       "    <tr>\n",
       "      <th>lada</th>\n",
       "      <td>2688.30</td>\n",
       "      <td>83518.52</td>\n",
       "      <td>22.452284</td>\n",
       "    </tr>\n",
       "  </tbody>\n",
       "</table>\n",
       "</div>"
      ],
      "text/plain": [
       "          mean_price  odometer_km  value_index\n",
       "trabant      1953.30     55245.90    10.791182\n",
       "daewoo       1119.45    120479.45    13.487072\n",
       "daihatsu     1650.58    116196.58    19.179175\n",
       "rover        1609.72    138046.88    22.221682\n",
       "lada         2688.30     83518.52    22.452284"
      ]
     },
     "execution_count": 51,
     "metadata": {},
     "output_type": "execute_result"
    }
   ],
   "source": [
    "price_milage.sort_values(by='value_index', ascending=True).head(5)"
   ]
  }
 ],
 "metadata": {
  "kernelspec": {
   "display_name": "Python 3",
   "language": "python",
   "name": "python3"
  },
  "language_info": {
   "codemirror_mode": {
    "name": "ipython",
    "version": 3
   },
   "file_extension": ".py",
   "mimetype": "text/x-python",
   "name": "python",
   "nbconvert_exporter": "python",
   "pygments_lexer": "ipython3",
   "version": "3.4.3"
  }
 },
 "nbformat": 4,
 "nbformat_minor": 2
}
