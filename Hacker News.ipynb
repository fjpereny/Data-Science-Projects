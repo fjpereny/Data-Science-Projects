{
 "cells": [
  {
   "cell_type": "markdown",
   "metadata": {
    "collapsed": true
   },
   "source": [
    "<img src=\"https://s3.amazonaws.com/dq-content/354/hacker_news.jpg\" alt=\"Hacker News Logo\" title=\"Hacker News Logo\"/>\n",
    "\n",
    "# Hacker News Post Analysis\n",
    "#### Author: Frank Pereny\n",
    "#### Date: November, 2020\n",
    "\n",
    "## Introduction:\n",
    "### Project Summary:\n",
    "[Hacker News](https://news.ycombinator.com/) is a social news site similar to [reddit](https://www.reddit.com/) focused on technology, computer science and entrepeneurship.  Hacker News was developed by [Paul Graham](https://en.wikipedia.org/wiki/Paul_Graham_(programmer)) and launched February, 2007 as Startup News.  Its current name was adopted on August 14, 2007.\n",
    "\n",
    "Posts can be separated into two categories:\n",
    "- [Ask HN](https://news.ycombinator.com/ask)\n",
    "- [Show HN](https://news.ycombinator.com/show)\n",
    "\n",
    "***Ask HN*** posts allow users to ask questions to the Hacker News community such as:\n",
    "- Ask HN: Is it time to quit tech industry?\n",
    "- Ask HN: What is the best money you have spent on professional development?\n",
    "- Ask HN: How to get rid of impostor syndrome?\n",
    "\n",
    "***Show HN*** is used to share projects, information, news or anything interesting with the community.  For example:\n",
    "- Show HN: Podcast API \n",
    "- Show HN: A simple but powerful UI for SSH port forwarding \n",
    "- Show HN: 15FPS to 60FPS, new GPU real-time flow-based method\n",
    "\n",
    "### Goals:\n",
    "The goal of this project is to compare ***Ask HN*** and ***Show HN*** posts to determine the following:\n",
    "1) Which type of post recieves more comments on average?\n",
    "2) Does the date or time a post is created affect how many comments it receieves?\n",
    "\n",
    "### Source Data:\n",
    "The original source data contained nearly 300,00 posts.  All submissions without any comments were removed.  The final data set consisting of 20,000 entries was created by random sampling.\n",
    "\n",
    "#### Download:\n",
    "[Source Data CSV Download](https://www.kaggle.com/hacker-news/hacker-news-posts)\n",
    "\n",
    "#### Data Format:\n",
    "The data is a CSV (Comma-separated Values) file with the following format.\n",
    "\n",
    "| |0|1|2|3|4|5|6|\n",
    "|--|--|--|--|--|--|--|--| \n",
    "|CSV Header String|id| title | url | num_points | num_comments | author | created_at|\n",
    "|Meaning|Unique post ID| Title of post | Post URL | Number of points post has recieved | Number of comments a post has recieved | Author of the post | Date and time the post was created|\n",
    "\n",
    "## Results:\n",
    "### ***Ask HM*** vs. ***Show HM*** Posts\n",
    "On average ***Ask HM*** posts recieve approximatley 36% more comments than ***Show HM*** posts.  Although not part of this project, it is interesting to note that other posts received the most comments on average, nearly double those of ***Ask HM***.\n",
    "\n",
    "|   |Posts Analysed | Comment Totals | Average Comment per Post | \n",
    "|---|--------------|---------------|------------------------|\n",
    "|Ask HM Posts| 1,744 | 24, 483 | 14.04 |\n",
    "|Show HM Posts| 1,162 | 11,988 | 10.32 |\n",
    "| Other Posts| 17,194 | 462,055 | 26.87|\n",
    "\n",
    "### Posting Time\n",
    "Posts created around 3PM Eastern Standard Time have the highest chance of recieving comments.  3PM, averaging over 38 comments per post, was nearly 7 times greater than 9AM EST.  This indicates that the time of posting has a very large impact on the amount comments one can expect to receive.\n",
    "\n",
    "|Average Comments Per Post | Time Posted|\n",
    "|------------------------ | ----------|\n",
    "38.60 | 03pm EST |\n",
    "23.80 | 02am EST |\n",
    "21.50 | 08pm EST |\n",
    "16.80 | 04pm EST |\n",
    "16.00 | 09pm EST |\n",
    "14.70 | 01pm EST |\n",
    "13.40 | 10am EST |\n",
    "13.20 | 02pm EST |\n",
    "13.20 | 06pm EST |\n",
    "11.50 | 05pm EST |\n",
    "11.40 | 01am EST |\n",
    "11.10 | 11am EST |\n",
    "10.80 | 07pm EST |\n",
    "10.20 | 08am EST |\n",
    "10.10 | 05am EST |\n",
    "9.40 | 12pm EST |\n",
    "9.00 | 06am EST |\n",
    "8.10 | 12am EST |\n",
    "8.00 | 11pm EST |\n",
    "7.90 | 07am EST |\n",
    "7.80 | 03am EST |\n",
    "7.20 | 04am EST |\n",
    "6.70 | 10pm EST |\n",
    "5.60 | 09am EST |\n",
    "\n",
    "\n",
    "## Analysis\n",
    "### Opening & Reading the Data Set"
   ]
  },
  {
   "cell_type": "code",
   "execution_count": 10,
   "metadata": {},
   "outputs": [
    {
     "name": "stdout",
     "output_type": "stream",
     "text": [
      "The first 5 rows of the data set:\n",
      "\n",
      "['id', 'title', 'url', 'num_points', 'num_comments', 'author', 'created_at'] \n",
      "\n",
      "['12224879', 'Interactive Dynamic Video', 'http://www.interactivedynamicvideo.com/', '386', '52', 'ne0phyte', '8/4/2016 11:52'] \n",
      "\n",
      "['10975351', 'How to Use Open Source and Shut the Fuck Up at the Same Time', 'http://hueniverse.com/2016/01/26/how-to-use-open-source-and-shut-the-fuck-up-at-the-same-time/', '39', '10', 'josep2', '1/26/2016 19:30'] \n",
      "\n",
      "['11964716', \"Florida DJs May Face Felony for April Fools' Water Joke\", 'http://www.thewire.com/entertainment/2013/04/florida-djs-april-fools-water-joke/63798/', '2', '1', 'vezycash', '6/23/2016 22:20'] \n",
      "\n",
      "['11919867', 'Technology ventures: From Idea to Enterprise', 'https://www.amazon.com/Technology-Ventures-Enterprise-Thomas-Byers/dp/0073523429', '3', '1', 'hswarna', '6/17/2016 0:01'] \n",
      "\n"
     ]
    }
   ],
   "source": [
    "from csv import reader\n",
    "file_name = 'hacker_news.csv'\n",
    "opened_file = open(file_name)\n",
    "read_file = reader(opened_file)\n",
    "hn = list(read_file)\n",
    "\n",
    "print(\"The first 5 rows of the data set:\\n\")\n",
    "for row in hn[:5]:\n",
    "    print(row, '\\n')"
   ]
  },
  {
   "cell_type": "markdown",
   "metadata": {},
   "source": [
    "### Extracting Header from Data Set"
   ]
  },
  {
   "cell_type": "code",
   "execution_count": 11,
   "metadata": {},
   "outputs": [
    {
     "name": "stdout",
     "output_type": "stream",
     "text": [
      "Headers:\n",
      " [['id', 'title', 'url', 'num_points', 'num_comments', 'author', 'created_at']] \n",
      "\n",
      "The first 5 rows of the data set:\n",
      "\n",
      "['12224879', 'Interactive Dynamic Video', 'http://www.interactivedynamicvideo.com/', '386', '52', 'ne0phyte', '8/4/2016 11:52'] \n",
      "\n",
      "['10975351', 'How to Use Open Source and Shut the Fuck Up at the Same Time', 'http://hueniverse.com/2016/01/26/how-to-use-open-source-and-shut-the-fuck-up-at-the-same-time/', '39', '10', 'josep2', '1/26/2016 19:30'] \n",
      "\n",
      "['11964716', \"Florida DJs May Face Felony for April Fools' Water Joke\", 'http://www.thewire.com/entertainment/2013/04/florida-djs-april-fools-water-joke/63798/', '2', '1', 'vezycash', '6/23/2016 22:20'] \n",
      "\n",
      "['11919867', 'Technology ventures: From Idea to Enterprise', 'https://www.amazon.com/Technology-Ventures-Enterprise-Thomas-Byers/dp/0073523429', '3', '1', 'hswarna', '6/17/2016 0:01'] \n",
      "\n",
      "['10301696', 'Note by Note: The Making of Steinway L1037 (2007)', 'http://www.nytimes.com/2007/11/07/movies/07stein.html?_r=0', '8', '2', 'walterbell', '9/30/2015 4:12'] \n",
      "\n"
     ]
    }
   ],
   "source": [
    "headers = hn[0:1]\n",
    "hn = hn[1:]\n",
    "\n",
    "print(\"Headers:\\n\", headers, '\\n')\n",
    "print(\"The first 5 rows of the data set:\\n\")\n",
    "for row in hn[:5]:\n",
    "    print(row, '\\n')"
   ]
  },
  {
   "cell_type": "markdown",
   "metadata": {},
   "source": [
    "### Separate by Post Type"
   ]
  },
  {
   "cell_type": "code",
   "execution_count": 12,
   "metadata": {},
   "outputs": [
    {
     "name": "stdout",
     "output_type": "stream",
     "text": [
      "Number of Ask HN posts: 1,744\n",
      "Number of Show HN posts: 1,162\n",
      "Number of Other posts: 17,194\n"
     ]
    }
   ],
   "source": [
    "ask_posts = []\n",
    "show_posts = []\n",
    "other_posts = []\n",
    "\n",
    "for row in hn:\n",
    "    title = row[1].lower()\n",
    "    \n",
    "    if title[:6] == 'ask hn':\n",
    "        ask_posts.append(row)\n",
    "    elif title[0:7] == 'show hn':\n",
    "        show_posts.append(row)\n",
    "    else:\n",
    "        other_posts.append(row)\n",
    "        \n",
    "print(\"Number of Ask HN posts: {:,}\".format(len(ask_posts)))\n",
    "print(\"Number of Show HN posts: {:,}\".format(len(show_posts)))\n",
    "print(\"Number of Other posts: {:,}\".format(len(other_posts)))"
   ]
  },
  {
   "cell_type": "markdown",
   "metadata": {},
   "source": [
    "#### Ask Post Sample"
   ]
  },
  {
   "cell_type": "code",
   "execution_count": 13,
   "metadata": {},
   "outputs": [
    {
     "name": "stdout",
     "output_type": "stream",
     "text": [
      "['12296411', 'Ask HN: How to improve my personal website?', '', '2', '6', 'ahmedbaracat', '8/16/2016 9:55'] \n",
      "\n",
      "['10610020', 'Ask HN: Am I the only one outraged by Twitter shutting down share counts?', '', '28', '29', 'tkfx', '11/22/2015 13:43'] \n",
      "\n",
      "['11610310', 'Ask HN: Aby recent changes to CSS that broke mobile?', '', '1', '1', 'polskibus', '5/2/2016 10:14'] \n",
      "\n"
     ]
    }
   ],
   "source": [
    "for row in ask_posts[:3]:\n",
    "    print(row, '\\n')"
   ]
  },
  {
   "cell_type": "markdown",
   "metadata": {},
   "source": [
    "#### Show Post Sample"
   ]
  },
  {
   "cell_type": "code",
   "execution_count": 14,
   "metadata": {},
   "outputs": [
    {
     "name": "stdout",
     "output_type": "stream",
     "text": [
      "['10627194', 'Show HN: Wio Link  ESP8266 Based Web of Things Hardware Development Platform', 'https://iot.seeed.cc', '26', '22', 'kfihihc', '11/25/2015 14:03'] \n",
      "\n",
      "['10646440', 'Show HN: Something pointless I made', 'http://dn.ht/picklecat/', '747', '102', 'dhotson', '11/29/2015 22:46'] \n",
      "\n",
      "['11590768', 'Show HN: Shanhu.io, a programming playground powered by e8vm', 'https://shanhu.io', '1', '1', 'h8liu', '4/28/2016 18:05'] \n",
      "\n"
     ]
    }
   ],
   "source": [
    "for row in show_posts[:3]:\n",
    "    print(row, '\\n')"
   ]
  },
  {
   "cell_type": "markdown",
   "metadata": {},
   "source": [
    "#### Other Post Sample"
   ]
  },
  {
   "cell_type": "code",
   "execution_count": 15,
   "metadata": {},
   "outputs": [
    {
     "name": "stdout",
     "output_type": "stream",
     "text": [
      "['12224879', 'Interactive Dynamic Video', 'http://www.interactivedynamicvideo.com/', '386', '52', 'ne0phyte', '8/4/2016 11:52'] \n",
      "\n",
      "['10975351', 'How to Use Open Source and Shut the Fuck Up at the Same Time', 'http://hueniverse.com/2016/01/26/how-to-use-open-source-and-shut-the-fuck-up-at-the-same-time/', '39', '10', 'josep2', '1/26/2016 19:30'] \n",
      "\n",
      "['11964716', \"Florida DJs May Face Felony for April Fools' Water Joke\", 'http://www.thewire.com/entertainment/2013/04/florida-djs-april-fools-water-joke/63798/', '2', '1', 'vezycash', '6/23/2016 22:20'] \n",
      "\n"
     ]
    }
   ],
   "source": [
    "for row in other_posts[:3]:\n",
    "    print(row, '\\n')"
   ]
  },
  {
   "cell_type": "markdown",
   "metadata": {},
   "source": [
    "## Ask HN vs. Show HN Post Analysis\n",
    "### Effect on Number of Comments Recieved"
   ]
  },
  {
   "cell_type": "code",
   "execution_count": 16,
   "metadata": {},
   "outputs": [
    {
     "name": "stdout",
     "output_type": "stream",
     "text": [
      "Comment Totals:\n",
      "Total number of comments in Ask HN posts: 24,483\n",
      "Total number of comments in Show HN posts: 11,988\n",
      "Total number of comments in other HN posts: 462,055\n",
      "\n",
      "Comment Averages:\n",
      "Ask HN average number of comments: 14.04\n",
      "Show HN average number of comments: 10.32\n",
      "Other post average number of comments: 26.87\n"
     ]
    }
   ],
   "source": [
    "total_ask_comments = 0\n",
    "for row in ask_posts:\n",
    "    total_ask_comments += int(row[4])\n",
    "    \n",
    "total_show_comments = 0\n",
    "for row in show_posts:\n",
    "    total_show_comments += int(row[4])\n",
    "    \n",
    "total_other_comments = 0\n",
    "for row in other_posts:\n",
    "    total_other_comments += int(row[4])\n",
    "\n",
    "ask_text = \"Total number of comments in Ask HN posts: {:,}\"\n",
    "show_text = \"Total number of comments in Show HN posts: {:,}\"\n",
    "other_text = \"Total number of comments in other HN posts: {:,}\"\n",
    "print(\"Comment Totals:\")\n",
    "print(ask_text.format(total_ask_comments))\n",
    "print(show_text.format(total_show_comments))\n",
    "print(other_text.format(total_other_comments))\n",
    "\n",
    "avg_ask_comments = float(total_ask_comments) / len(ask_posts)\n",
    "avg_show_comments = float(total_show_comments) / len(show_posts)\n",
    "avg_other_comments = float(total_other_comments) / len(other_posts)\n",
    "\n",
    "print(\"\\nComment Averages:\")\n",
    "print('Ask HN average number of comments: {:.2f}'.format(avg_ask_comments))\n",
    "print('Show HN average number of comments: {:.2f}'.format(avg_show_comments))\n",
    "print('Other post average number of comments: {:.2f}'.format(avg_other_comments))"
   ]
  },
  {
   "cell_type": "markdown",
   "metadata": {},
   "source": [
    "### Result\n",
    "On average ***Ask HM*** posts recieve approximatley 36% more comments than ***Show HM*** posts.  Although not part of this project, it is interesting to note that other posts received the most comments on average, nearly double those of ***Ask HM***.\n",
    "\n",
    "|   |Posts Analysed | Comment Totals | Average Comment per Post | \n",
    "|---|--------------|---------------|------------------------|\n",
    "|Ask HM Posts| 1,744 | 24, 483 | 14.04 |\n",
    "|Show HM Posts| 1,162 | 11,988 | 10.32 |\n",
    "| Other Posts| 17,194 | 462,055 | 26.87|"
   ]
  },
  {
   "cell_type": "markdown",
   "metadata": {},
   "source": [
    "## Posting Date & Time Analysis of Ask HM Posts"
   ]
  },
  {
   "cell_type": "code",
   "execution_count": 17,
   "metadata": {},
   "outputs": [
    {
     "name": "stdout",
     "output_type": "stream",
     "text": [
      "Average Comments Per Post\n",
      "12am EST - 8.1\n",
      "01am EST - 11.4\n",
      "02am EST - 23.8\n",
      "03am EST - 7.8\n",
      "04am EST - 7.2\n",
      "05am EST - 10.1\n",
      "06am EST - 9.0\n",
      "07am EST - 7.9\n",
      "08am EST - 10.2\n",
      "09am EST - 5.6\n",
      "10am EST - 13.4\n",
      "11am EST - 11.1\n",
      "12pm EST - 9.4\n",
      "01pm EST - 14.7\n",
      "02pm EST - 13.2\n",
      "03pm EST - 38.6\n",
      "04pm EST - 16.8\n",
      "05pm EST - 11.5\n",
      "06pm EST - 13.2\n",
      "07pm EST - 10.8\n",
      "08pm EST - 21.5\n",
      "09pm EST - 16.0\n",
      "10pm EST - 6.7\n",
      "11pm EST - 8.0\n"
     ]
    }
   ],
   "source": [
    "import datetime as dt\n",
    "\n",
    "result_list = []\n",
    "for row in ask_posts:\n",
    "    created_at = row[6]\n",
    "    num_comments = int(row[4])\n",
    "    result_list.append([created_at, num_comments])\n",
    "    \n",
    "count_by_hour = {}\n",
    "comment_by_hour = {}\n",
    "\n",
    "for result in result_list:\n",
    "    post_time = dt.datetime.strptime(result[0], '%m/%d/%Y %H:%M')\n",
    "    hour = post_time.strftime('%H')\n",
    "    \n",
    "    if hour not in count_by_hour:\n",
    "        count_by_hour[hour] = 1\n",
    "    else:\n",
    "        count_by_hour[hour] += 1\n",
    "    if hour not in comment_by_hour:\n",
    "        comment_by_hour[hour] = result[1]\n",
    "    else:\n",
    "        comment_by_hour[hour] += result[1]\n",
    "        \n",
    "avg_by_hour = []\n",
    "for hour in count_by_hour:\n",
    "    comments = comment_by_hour[hour]\n",
    "    count = float(count_by_hour[hour])\n",
    "    average = comments / count\n",
    "    \n",
    "    avg_by_hour.append([hour, average])\n",
    "avg_by_hour.sort()\n",
    "\n",
    "\n",
    "print(\"Average Comments Per Post\")\n",
    "for row in avg_by_hour:\n",
    "    hour = row[0]\n",
    "    dt_hour = dt.datetime.strptime(hour, '%H')\n",
    "    avg_comments = round(row[1], 1)\n",
    "    print(\"{} - {:,.1f}\".format(dt_hour.strftime('%I%P EST'), avg_comments))\n"
   ]
  },
  {
   "cell_type": "code",
   "execution_count": 18,
   "metadata": {},
   "outputs": [
    {
     "name": "stdout",
     "output_type": "stream",
     "text": [
      "Average Comments Per Post\n",
      "38.60 - 03pm EST\n",
      "23.80 - 02am EST\n",
      "21.50 - 08pm EST\n",
      "16.80 - 04pm EST\n",
      "16.00 - 09pm EST\n",
      "14.70 - 01pm EST\n",
      "13.40 - 10am EST\n",
      "13.20 - 02pm EST\n",
      "13.20 - 06pm EST\n",
      "11.50 - 05pm EST\n",
      "11.40 - 01am EST\n",
      "11.10 - 11am EST\n",
      "10.80 - 07pm EST\n",
      "10.20 - 08am EST\n",
      "10.10 - 05am EST\n",
      "9.40 - 12pm EST\n",
      "9.00 - 06am EST\n",
      "8.10 - 12am EST\n",
      "8.00 - 11pm EST\n",
      "7.90 - 07am EST\n",
      "7.80 - 03am EST\n",
      "7.20 - 04am EST\n",
      "6.70 - 10pm EST\n",
      "5.60 - 09am EST\n"
     ]
    }
   ],
   "source": [
    "swap_avg_by_hour = []\n",
    "for row in avg_by_hour:\n",
    "    hour = row[0]\n",
    "    avg_comments = row[1]\n",
    "    swap_avg_by_hour.append([avg_comments, hour])\n",
    "swap_avg_by_hour.sort(reverse=True)\n",
    "\n",
    "print(\"Average Comments Per Post\")\n",
    "for row in swap_avg_by_hour:\n",
    "    hour = row[1]\n",
    "    dt_hour = dt.datetime.strptime(hour, '%H')\n",
    "    avg_comments = round(row[0], 1)\n",
    "    print(\"{:,.2f} - {}\".format(avg_comments, dt_hour.strftime('%I%P EST')))    "
   ]
  },
  {
   "cell_type": "markdown",
   "metadata": {},
   "source": [
    "### Result\n",
    "Posts created around 3PM Eastern Standard Time have the highest chance of recieving comments.  3PM, averaging over 38 comments per post, was nearly 7 times greater than 9AM EST.  This indicates that the time of posting has a very large impact on the amount comments one can expect to receive."
   ]
  }
 ],
 "metadata": {
  "kernelspec": {
   "display_name": "Python 3",
   "language": "python",
   "name": "python3"
  },
  "language_info": {
   "codemirror_mode": {
    "name": "ipython",
    "version": 3
   },
   "file_extension": ".py",
   "mimetype": "text/x-python",
   "name": "python",
   "nbconvert_exporter": "python",
   "pygments_lexer": "ipython3",
   "version": "3.8.2"
  }
 },
 "nbformat": 4,
 "nbformat_minor": 2
}
